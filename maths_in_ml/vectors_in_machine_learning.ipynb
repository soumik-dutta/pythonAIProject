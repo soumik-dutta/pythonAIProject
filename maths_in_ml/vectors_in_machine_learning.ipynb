{
 "cells": [
  {
   "metadata": {},
   "cell_type": "markdown",
   "source": "# Vector Implementation\n",
   "id": "b7fb7d65847ec3a7"
  },
  {
   "metadata": {
    "ExecuteTime": {
     "end_time": "2025-01-14T10:50:22.114703Z",
     "start_time": "2025-01-14T10:50:22.022906Z"
    }
   },
   "cell_type": "code",
   "source": [
    "import numpy as np\n",
    "\n",
    "v = np.array([1, -1, 2])\n",
    "w = np.array([2, 5, 2])"
   ],
   "id": "578a0d04a83b99ba",
   "outputs": [],
   "execution_count": 1
  },
  {
   "metadata": {
    "ExecuteTime": {
     "end_time": "2025-01-14T10:51:05.900083Z",
     "start_time": "2025-01-14T10:51:05.897517Z"
    }
   },
   "cell_type": "code",
   "source": [
    "print(v+w)\n",
    "print(v-w)\n",
    "print(v*w)"
   ],
   "id": "87e744e145df11af",
   "outputs": [
    {
     "name": "stdout",
     "output_type": "stream",
     "text": [
      "[3 4 4]\n",
      "[-1 -6  0]\n",
      "[ 2 -5  4]\n"
     ]
    }
   ],
   "execution_count": 4
  },
  {
   "metadata": {},
   "cell_type": "markdown",
   "source": "### Getting the length of the vector:",
   "id": "7c16a79f8aa15ab4"
  },
  {
   "metadata": {
    "ExecuteTime": {
     "end_time": "2025-01-15T10:47:12.505822Z",
     "start_time": "2025-01-15T10:47:12.474976Z"
    }
   },
   "cell_type": "code",
   "source": "print(np.linalg.norm(v))",
   "id": "425377867ab8806e",
   "outputs": [
    {
     "name": "stdout",
     "output_type": "stream",
     "text": [
      "2.449489742783178\n"
     ]
    }
   ],
   "execution_count": 8
  },
  {
   "metadata": {},
   "cell_type": "markdown",
   "source": "### Dot Product",
   "id": "f536eb70cb605429"
  },
  {
   "metadata": {
    "ExecuteTime": {
     "end_time": "2025-01-14T10:55:42.505996Z",
     "start_time": "2025-01-14T10:55:42.494287Z"
    }
   },
   "cell_type": "code",
   "source": "print(np.dot(v, w))",
   "id": "a1b9f14e5dacb6d1",
   "outputs": [
    {
     "name": "stdout",
     "output_type": "stream",
     "text": [
      "1\n"
     ]
    }
   ],
   "execution_count": 6
  },
  {
   "metadata": {},
   "cell_type": "code",
   "outputs": [],
   "execution_count": null,
   "source": "",
   "id": "c1e4eaf498cef831"
  }
 ],
 "metadata": {
  "kernelspec": {
   "name": "python3",
   "language": "python",
   "display_name": "Python 3 (ipykernel)"
  }
 },
 "nbformat": 5,
 "nbformat_minor": 9
}
