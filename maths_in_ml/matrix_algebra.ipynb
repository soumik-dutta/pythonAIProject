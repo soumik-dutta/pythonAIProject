{
 "cells": [
  {
   "cell_type": "code",
   "id": "initial_id",
   "metadata": {
    "collapsed": true,
    "ExecuteTime": {
     "end_time": "2025-01-15T03:56:36.575922Z",
     "start_time": "2025-01-15T03:56:36.570753Z"
    }
   },
   "source": [
    "import numpy as np\n",
    "\n",
    "p = np.array([[1, 7], [2, 1], [3, 2]])\n",
    "q = np.array([[1, 1], [1, -1], [1, 0]])"
   ],
   "outputs": [
    {
     "name": "stdout",
     "output_type": "stream",
     "text": [
      "[[1 7]\n",
      " [2 1]\n",
      " [3 2]]\n"
     ]
    }
   ],
   "execution_count": 13
  },
  {
   "metadata": {},
   "cell_type": "markdown",
   "source": "> Addition",
   "id": "df9ea5a5f1bc7c90"
  },
  {
   "metadata": {
    "ExecuteTime": {
     "end_time": "2025-01-15T03:54:50.413679Z",
     "start_time": "2025-01-15T03:54:50.409685Z"
    }
   },
   "cell_type": "code",
   "source": [
    "c1 = np.add(p, q)\n",
    "print(c1)"
   ],
   "id": "d37f6a6835d66734",
   "outputs": [
    {
     "name": "stdout",
     "output_type": "stream",
     "text": [
      "[[2 8]\n",
      " [3 0]\n",
      " [4 2]]\n"
     ]
    }
   ],
   "execution_count": 8
  },
  {
   "metadata": {},
   "cell_type": "markdown",
   "source": "> Substraction",
   "id": "a27260117d3591f5"
  },
  {
   "metadata": {
    "ExecuteTime": {
     "end_time": "2025-01-15T03:55:16.624788Z",
     "start_time": "2025-01-15T03:55:16.621386Z"
    }
   },
   "cell_type": "code",
   "source": [
    "c2 = np.subtract(p, q)\n",
    "print(c2)"
   ],
   "id": "55a56081e93a4aaf",
   "outputs": [
    {
     "name": "stdout",
     "output_type": "stream",
     "text": [
      "[[0 6]\n",
      " [1 2]\n",
      " [2 2]]\n"
     ]
    }
   ],
   "execution_count": 10
  },
  {
   "metadata": {},
   "cell_type": "markdown",
   "source": "> Multiplication",
   "id": "6b3b9a4b6d4e24be"
  },
  {
   "metadata": {
    "ExecuteTime": {
     "end_time": "2025-01-15T03:55:48.652791Z",
     "start_time": "2025-01-15T03:55:48.649636Z"
    }
   },
   "cell_type": "code",
   "source": [
    "c3 = np.multiply(p, q)\n",
    "print(c3)"
   ],
   "id": "1913a49ee89e3f54",
   "outputs": [
    {
     "name": "stdout",
     "output_type": "stream",
     "text": [
      "[[ 1  7]\n",
      " [ 2 -1]\n",
      " [ 3  0]]\n"
     ]
    }
   ],
   "execution_count": 12
  },
  {
   "metadata": {},
   "cell_type": "markdown",
   "source": "> Dot product",
   "id": "62569995d7db2abb"
  },
  {
   "metadata": {
    "ExecuteTime": {
     "end_time": "2025-01-15T03:58:42.901219Z",
     "start_time": "2025-01-15T03:58:42.893927Z"
    }
   },
   "cell_type": "code",
   "source": [
    "r=np.array([[1, 3, 1], [1, 0, 1]])\n",
    "cdot = np.dot(p, r)\n",
    "print(cdot)"
   ],
   "id": "f72144e4ae461737",
   "outputs": [
    {
     "name": "stdout",
     "output_type": "stream",
     "text": [
      "[[8 3 8]\n",
      " [3 6 3]\n",
      " [5 9 5]]\n"
     ]
    }
   ],
   "execution_count": 16
  },
  {
   "metadata": {},
   "cell_type": "markdown",
   "source": "> Determinant",
   "id": "3cd15c8674f2e934"
  },
  {
   "metadata": {
    "ExecuteTime": {
     "end_time": "2025-01-15T03:59:56.519087Z",
     "start_time": "2025-01-15T03:59:56.511802Z"
    }
   },
   "cell_type": "code",
   "source": [
    "det = np.linalg.det(cdot)\n",
    "print(det)"
   ],
   "id": "6bb38769016c2887",
   "outputs": [
    {
     "name": "stdout",
     "output_type": "stream",
     "text": [
      "0.0\n"
     ]
    }
   ],
   "execution_count": 18
  },
  {
   "metadata": {},
   "cell_type": "markdown",
   "source": "> Inverse",
   "id": "967f3a481e34e48d"
  },
  {
   "metadata": {
    "ExecuteTime": {
     "end_time": "2025-01-15T04:01:10.625742Z",
     "start_time": "2025-01-15T04:01:10.617260Z"
    }
   },
   "cell_type": "code",
   "source": [
    "m=np.array([[1, -1], [2, 3]])\n",
    "inverse=np.linalg.inv(m)\n",
    "print(inverse)"
   ],
   "id": "79a56f4a11b698d1",
   "outputs": [
    {
     "name": "stdout",
     "output_type": "stream",
     "text": [
      "[[ 0.6  0.2]\n",
      " [-0.4  0.2]]\n"
     ]
    }
   ],
   "execution_count": 20
  },
  {
   "metadata": {},
   "cell_type": "code",
   "outputs": [],
   "execution_count": null,
   "source": "",
   "id": "4aedc02de286cc9f"
  }
 ],
 "metadata": {
  "kernelspec": {
   "display_name": "Python 3",
   "language": "python",
   "name": "python3"
  },
  "language_info": {
   "codemirror_mode": {
    "name": "ipython",
    "version": 2
   },
   "file_extension": ".py",
   "mimetype": "text/x-python",
   "name": "python",
   "nbconvert_exporter": "python",
   "pygments_lexer": "ipython2",
   "version": "2.7.6"
  }
 },
 "nbformat": 4,
 "nbformat_minor": 5
}
