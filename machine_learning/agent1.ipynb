{
 "cells": [
  {
   "metadata": {},
   "cell_type": "markdown",
   "source": "## Simple Reflex Agent",
   "id": "1c0adbad86a7e74c"
  },
  {
   "cell_type": "code",
   "id": "initial_id",
   "metadata": {
    "collapsed": true,
    "ExecuteTime": {
     "end_time": "2025-01-25T10:31:59.016091Z",
     "start_time": "2025-01-25T10:31:59.013439Z"
    }
   },
   "source": [
    "import numpy as np\n",
    "import time\n",
    "\n",
    "env = np.array([['DIRTY', 'CLEAN', 'DIRTY'],\n",
    "                        [\"CLEAN\", \"DIRTY\", \"CLEAN\"],\n",
    "                        [\"DIRTY\", \"DIRTY\", \"CLEAN\"]])"
   ],
   "outputs": [],
   "execution_count": 19
  },
  {
   "metadata": {},
   "cell_type": "markdown",
   "source": "### Class : SimpleReflexAgent",
   "id": "20e4c996de7edecb"
  },
  {
   "metadata": {
    "ExecuteTime": {
     "end_time": "2025-01-25T10:25:27.265273Z",
     "start_time": "2025-01-25T10:25:27.260050Z"
    }
   },
   "cell_type": "code",
   "source": [
    "class SimpleReflexAgent:\n",
    "    def __init__(self, env):\n",
    "        self.location = (0,0)\n",
    "        self.env = env\n",
    "\n",
    "    def perceive(self): # perceive the environment\n",
    "        return self.env[self.location] == 'DIRTY'\n",
    "\n",
    "    def act(self): # deciding the action it will take\n",
    "        if self.perceive():\n",
    "            print(f'Location: {self.location} is DIRTY. Cleaning ....')\n",
    "            self.env[self.location] = 'CLEAN'\n",
    "        else:\n",
    "            print(f'Location: {self.location} is CLEAN. Moving forward.')\n",
    "            self.move()\n",
    "\n",
    "    def move(self): # decide the next move\n",
    "        rows, columns = self.env.shape # return 3,3\n",
    "        row, column = self.location\n",
    "        if column + 1 < columns:\n",
    "            self.location = (row, column + 1)\n",
    "        elif row + 1 < rows:\n",
    "            self.location = (row + 1, 0)\n",
    "        else:\n",
    "            print(f'No more moves. Cleaning  complete.')\n",
    "\n"
   ],
   "id": "35e5cf935c89b3f2",
   "outputs": [],
   "execution_count": 12
  },
  {
   "metadata": {},
   "cell_type": "markdown",
   "source": "#### Driving robo mop",
   "id": "6b51a0b76ad2b8cc"
  },
  {
   "metadata": {
    "ExecuteTime": {
     "end_time": "2025-01-25T10:33:13.162373Z",
     "start_time": "2025-01-25T10:32:49.087892Z"
    }
   },
   "cell_type": "code",
   "source": [
    "env = np.array([['DIRTY', 'CLEAN', 'DIRTY'],\n",
    "                        [\"CLEAN\", \"DIRTY\", \"CLEAN\"],\n",
    "                        [\"DIRTY\", \"DIRTY\", \"CLEAN\"]])\n",
    "print(f'Initial Environment: {env}\\n\\n')\n",
    "agent = SimpleReflexAgent(env=env)\n",
    "\n",
    "while True:\n",
    "    if np.all(agent.env == 'CLEAN'):\n",
    "        print(f'All locations are cleaned')\n",
    "        break\n",
    "\n",
    "    agent.act()\n",
    "    print(f'Environment state : \\n{agent.env}\\n\\n')\n",
    "    time.sleep(2)\n"
   ],
   "id": "69a5fa8577ac72ce",
   "outputs": [
    {
     "name": "stdout",
     "output_type": "stream",
     "text": [
      "Initial Environment: [['DIRTY' 'CLEAN' 'DIRTY']\n",
      " ['CLEAN' 'DIRTY' 'CLEAN']\n",
      " ['DIRTY' 'DIRTY' 'CLEAN']]\n",
      "\n",
      "\n",
      "Location: (0, 0) is DIRTY. Cleaning ....\n",
      "Environment state : \n",
      "[['CLEAN' 'CLEAN' 'DIRTY']\n",
      " ['CLEAN' 'DIRTY' 'CLEAN']\n",
      " ['DIRTY' 'DIRTY' 'CLEAN']]\n",
      "\n",
      "\n",
      "Location: (0, 0) is CLEAN. Moving forward.\n",
      "Environment state : \n",
      "[['CLEAN' 'CLEAN' 'DIRTY']\n",
      " ['CLEAN' 'DIRTY' 'CLEAN']\n",
      " ['DIRTY' 'DIRTY' 'CLEAN']]\n",
      "\n",
      "\n",
      "Location: (0, 1) is CLEAN. Moving forward.\n",
      "Environment state : \n",
      "[['CLEAN' 'CLEAN' 'DIRTY']\n",
      " ['CLEAN' 'DIRTY' 'CLEAN']\n",
      " ['DIRTY' 'DIRTY' 'CLEAN']]\n",
      "\n",
      "\n",
      "Location: (0, 2) is DIRTY. Cleaning ....\n",
      "Environment state : \n",
      "[['CLEAN' 'CLEAN' 'CLEAN']\n",
      " ['CLEAN' 'DIRTY' 'CLEAN']\n",
      " ['DIRTY' 'DIRTY' 'CLEAN']]\n",
      "\n",
      "\n",
      "Location: (0, 2) is CLEAN. Moving forward.\n",
      "Environment state : \n",
      "[['CLEAN' 'CLEAN' 'CLEAN']\n",
      " ['CLEAN' 'DIRTY' 'CLEAN']\n",
      " ['DIRTY' 'DIRTY' 'CLEAN']]\n",
      "\n",
      "\n",
      "Location: (1, 0) is CLEAN. Moving forward.\n",
      "Environment state : \n",
      "[['CLEAN' 'CLEAN' 'CLEAN']\n",
      " ['CLEAN' 'DIRTY' 'CLEAN']\n",
      " ['DIRTY' 'DIRTY' 'CLEAN']]\n",
      "\n",
      "\n",
      "Location: (1, 1) is DIRTY. Cleaning ....\n",
      "Environment state : \n",
      "[['CLEAN' 'CLEAN' 'CLEAN']\n",
      " ['CLEAN' 'CLEAN' 'CLEAN']\n",
      " ['DIRTY' 'DIRTY' 'CLEAN']]\n",
      "\n",
      "\n",
      "Location: (1, 1) is CLEAN. Moving forward.\n",
      "Environment state : \n",
      "[['CLEAN' 'CLEAN' 'CLEAN']\n",
      " ['CLEAN' 'CLEAN' 'CLEAN']\n",
      " ['DIRTY' 'DIRTY' 'CLEAN']]\n",
      "\n",
      "\n",
      "Location: (1, 2) is CLEAN. Moving forward.\n",
      "Environment state : \n",
      "[['CLEAN' 'CLEAN' 'CLEAN']\n",
      " ['CLEAN' 'CLEAN' 'CLEAN']\n",
      " ['DIRTY' 'DIRTY' 'CLEAN']]\n",
      "\n",
      "\n",
      "Location: (2, 0) is DIRTY. Cleaning ....\n",
      "Environment state : \n",
      "[['CLEAN' 'CLEAN' 'CLEAN']\n",
      " ['CLEAN' 'CLEAN' 'CLEAN']\n",
      " ['CLEAN' 'DIRTY' 'CLEAN']]\n",
      "\n",
      "\n",
      "Location: (2, 0) is CLEAN. Moving forward.\n",
      "Environment state : \n",
      "[['CLEAN' 'CLEAN' 'CLEAN']\n",
      " ['CLEAN' 'CLEAN' 'CLEAN']\n",
      " ['CLEAN' 'DIRTY' 'CLEAN']]\n",
      "\n",
      "\n",
      "Location: (2, 1) is DIRTY. Cleaning ....\n",
      "Environment state : \n",
      "[['CLEAN' 'CLEAN' 'CLEAN']\n",
      " ['CLEAN' 'CLEAN' 'CLEAN']\n",
      " ['CLEAN' 'CLEAN' 'CLEAN']]\n",
      "\n",
      "\n",
      "All locations are cleaned\n"
     ]
    }
   ],
   "execution_count": 21
  }
 ],
 "metadata": {
  "kernelspec": {
   "display_name": "Python 3",
   "language": "python",
   "name": "python3"
  },
  "language_info": {
   "codemirror_mode": {
    "name": "ipython",
    "version": 2
   },
   "file_extension": ".py",
   "mimetype": "text/x-python",
   "name": "python",
   "nbconvert_exporter": "python",
   "pygments_lexer": "ipython2",
   "version": "2.7.6"
  }
 },
 "nbformat": 4,
 "nbformat_minor": 5
}
