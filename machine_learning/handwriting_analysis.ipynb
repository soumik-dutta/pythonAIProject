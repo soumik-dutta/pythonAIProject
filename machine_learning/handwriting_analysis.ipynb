{
 "cells": [
  {
   "metadata": {},
   "cell_type": "markdown",
   "source": "",
   "id": "29063b1b39441e77"
  },
  {
   "metadata": {
    "ExecuteTime": {
     "end_time": "2025-03-22T15:19:06.694710Z",
     "start_time": "2025-03-22T15:19:06.376636Z"
    }
   },
   "cell_type": "code",
   "source": [
    "import geopandas as gpd\n",
    "\n",
    "# Load the shapefile\n",
    "shapefile_path = \"../datasets/IND_rds/IND_roads.shp\"\n",
    "gdf = gpd.read_file(shapefile_path)\n",
    "gdf.head()"
   ],
   "id": "a64083f0dc3582b3",
   "outputs": [
    {
     "data": {
      "text/plain": [
       "       MED_DESCRI       RTT_DESCRI F_CODE_DES  ISO ISOCOUNTRY  \\\n",
       "0  Without Median  Secondary Route       Road  IND      INDIA   \n",
       "1  Without Median  Secondary Route       Road  IND      INDIA   \n",
       "2  Without Median  Secondary Route       Road  IND      INDIA   \n",
       "3  Without Median  Secondary Route       Road  IND      INDIA   \n",
       "4  Without Median  Secondary Route       Road  IND      INDIA   \n",
       "\n",
       "                                            geometry  \n",
       "0   LINESTRING (77.82774 35.50128, 77.82575 35.4995)  \n",
       "1   LINESTRING (77.82373 35.50099, 77.82575 35.4995)  \n",
       "2  MULTILINESTRING ((77.82575 35.4995, 77.82975 3...  \n",
       "3  LINESTRING (77.93183 35.38539, 77.94247 35.379...  \n",
       "4  LINESTRING (77.93183 35.38539, 77.90347 35.381...  "
      ],
      "text/html": [
       "<div>\n",
       "<style scoped>\n",
       "    .dataframe tbody tr th:only-of-type {\n",
       "        vertical-align: middle;\n",
       "    }\n",
       "\n",
       "    .dataframe tbody tr th {\n",
       "        vertical-align: top;\n",
       "    }\n",
       "\n",
       "    .dataframe thead th {\n",
       "        text-align: right;\n",
       "    }\n",
       "</style>\n",
       "<table border=\"1\" class=\"dataframe\">\n",
       "  <thead>\n",
       "    <tr style=\"text-align: right;\">\n",
       "      <th></th>\n",
       "      <th>MED_DESCRI</th>\n",
       "      <th>RTT_DESCRI</th>\n",
       "      <th>F_CODE_DES</th>\n",
       "      <th>ISO</th>\n",
       "      <th>ISOCOUNTRY</th>\n",
       "      <th>geometry</th>\n",
       "    </tr>\n",
       "  </thead>\n",
       "  <tbody>\n",
       "    <tr>\n",
       "      <th>0</th>\n",
       "      <td>Without Median</td>\n",
       "      <td>Secondary Route</td>\n",
       "      <td>Road</td>\n",
       "      <td>IND</td>\n",
       "      <td>INDIA</td>\n",
       "      <td>LINESTRING (77.82774 35.50128, 77.82575 35.4995)</td>\n",
       "    </tr>\n",
       "    <tr>\n",
       "      <th>1</th>\n",
       "      <td>Without Median</td>\n",
       "      <td>Secondary Route</td>\n",
       "      <td>Road</td>\n",
       "      <td>IND</td>\n",
       "      <td>INDIA</td>\n",
       "      <td>LINESTRING (77.82373 35.50099, 77.82575 35.4995)</td>\n",
       "    </tr>\n",
       "    <tr>\n",
       "      <th>2</th>\n",
       "      <td>Without Median</td>\n",
       "      <td>Secondary Route</td>\n",
       "      <td>Road</td>\n",
       "      <td>IND</td>\n",
       "      <td>INDIA</td>\n",
       "      <td>MULTILINESTRING ((77.82575 35.4995, 77.82975 3...</td>\n",
       "    </tr>\n",
       "    <tr>\n",
       "      <th>3</th>\n",
       "      <td>Without Median</td>\n",
       "      <td>Secondary Route</td>\n",
       "      <td>Road</td>\n",
       "      <td>IND</td>\n",
       "      <td>INDIA</td>\n",
       "      <td>LINESTRING (77.93183 35.38539, 77.94247 35.379...</td>\n",
       "    </tr>\n",
       "    <tr>\n",
       "      <th>4</th>\n",
       "      <td>Without Median</td>\n",
       "      <td>Secondary Route</td>\n",
       "      <td>Road</td>\n",
       "      <td>IND</td>\n",
       "      <td>INDIA</td>\n",
       "      <td>LINESTRING (77.93183 35.38539, 77.90347 35.381...</td>\n",
       "    </tr>\n",
       "  </tbody>\n",
       "</table>\n",
       "</div>"
      ]
     },
     "execution_count": 1,
     "metadata": {},
     "output_type": "execute_result"
    }
   ],
   "execution_count": 1
  }
 ],
 "metadata": {
  "kernelspec": {
   "display_name": "Python 3",
   "language": "python",
   "name": "python3"
  },
  "language_info": {
   "codemirror_mode": {
    "name": "ipython",
    "version": 2
   },
   "file_extension": ".py",
   "mimetype": "text/x-python",
   "name": "python",
   "nbconvert_exporter": "python",
   "pygments_lexer": "ipython2",
   "version": "2.7.6"
  }
 },
 "nbformat": 4,
 "nbformat_minor": 5
}
