{
 "cells": [
  {
   "metadata": {
    "ExecuteTime": {
     "end_time": "2025-03-20T18:18:21.916328Z",
     "start_time": "2025-03-20T18:18:21.396401Z"
    }
   },
   "cell_type": "code",
   "source": [
    "import heapq\n",
    "import math\n",
    "import time\n",
    "import networkx as nx\n",
    "import geopy.distance\n",
    "\n",
    "# Define a function to calculate Haversine distance\n",
    "def haversine_distance(coord1, coord2):\n",
    "    return geopy.distance.geodesic(coord1, coord2).km\n",
    "\n",
    "# Define Graph class with cities and distances\n",
    "class CityGraph:\n",
    "    def __init__(self):\n",
    "        self.graph = nx.Graph()\n",
    "\n",
    "    def add_city(self, city, latitude, longitude):\n",
    "        self.graph.add_node(city, pos=(latitude, longitude))\n",
    "\n",
    "    def add_road(self, city1, city2, distance):\n",
    "        self.graph.add_edge(city1, city2, weight=distance * 2)  # Transition cost d(i, j) * 2\n",
    "\n",
    "    def get_neighbors(self, city):\n",
    "        return self.graph.neighbors(city)\n",
    "\n",
    "    def get_distance(self, city1, city2):\n",
    "        return self.graph[city1][city2]['weight']\n",
    "\n",
    "    def heuristic(self, city, target):\n",
    "        coord1 = self.graph.nodes[city]['pos']\n",
    "        coord2 = self.graph.nodes[target]['pos']\n",
    "        return haversine_distance(coord1, coord2)\n",
    "\n",
    "# Implement Greedy Best-First Search\n",
    "def greedy_best_first_search(graph, start1, start2):\n",
    "    frontier = []\n",
    "    heapq.heappush(frontier, (graph.heuristic(start1, start2), start1, start2))\n",
    "    explored = set()\n",
    "    nodes_generated = 0\n",
    "\n",
    "    while frontier:\n",
    "        _, current1, current2 = heapq.heappop(frontier)\n",
    "\n",
    "        if current1 == current2:\n",
    "            return current1, nodes_generated  # Found optimal meetup city\n",
    "\n",
    "        explored.add((current1, current2))\n",
    "\n",
    "        for neighbor1 in graph.get_neighbors(current1):\n",
    "            for neighbor2 in graph.get_neighbors(current2):\n",
    "                if (neighbor1, neighbor2) not in explored:\n",
    "                    heapq.heappush(frontier, (graph.heuristic(neighbor1, neighbor2), neighbor1, neighbor2))\n",
    "                    nodes_generated += 1\n",
    "\n",
    "    return None, nodes_generated\n",
    "\n"
   ],
   "id": "7d9af14f28c51f3b",
   "outputs": [
    {
     "name": "stderr",
     "output_type": "stream",
     "text": [
      "/Users/soumikdutta/PycharmProjects/pythonAIProject/.venv/lib/python3.9/site-packages/urllib3/__init__.py:35: NotOpenSSLWarning: urllib3 v2 only supports OpenSSL 1.1.1+, currently the 'ssl' module is compiled with 'LibreSSL 2.8.3'. See: https://github.com/urllib3/urllib3/issues/3020\n",
      "  warnings.warn(\n"
     ]
    }
   ],
   "execution_count": 7
  },
  {
   "metadata": {
    "ExecuteTime": {
     "end_time": "2025-03-20T18:48:56.808302Z",
     "start_time": "2025-03-20T18:48:56.597470Z"
    }
   },
   "cell_type": "code",
   "source": [
    "import geopandas as gpd\n",
    "\n",
    "# Load the Taluka shapefile\n",
    "gdf = gpd.read_file(\"../datasets/india_taluk.shp\")\n",
    "# gdf[\"NAME_1\"].unique()\n",
    "\n",
    "\n"
   ],
   "id": "c3f1a9a7f87662bd",
   "outputs": [
    {
     "ename": "KeyError",
     "evalue": "'West Bengal'",
     "output_type": "error",
     "traceback": [
      "\u001B[0;31m---------------------------------------------------------------------------\u001B[0m",
      "\u001B[0;31mKeyError\u001B[0m                                  Traceback (most recent call last)",
      "File \u001B[0;32m~/PycharmProjects/pythonAIProject/.venv/lib/python3.9/site-packages/pandas/core/indexes/base.py:3805\u001B[0m, in \u001B[0;36mIndex.get_loc\u001B[0;34m(self, key)\u001B[0m\n\u001B[1;32m   3804\u001B[0m \u001B[38;5;28;01mtry\u001B[39;00m:\n\u001B[0;32m-> 3805\u001B[0m     \u001B[38;5;28;01mreturn\u001B[39;00m \u001B[38;5;28;43mself\u001B[39;49m\u001B[38;5;241;43m.\u001B[39;49m\u001B[43m_engine\u001B[49m\u001B[38;5;241;43m.\u001B[39;49m\u001B[43mget_loc\u001B[49m\u001B[43m(\u001B[49m\u001B[43mcasted_key\u001B[49m\u001B[43m)\u001B[49m\n\u001B[1;32m   3806\u001B[0m \u001B[38;5;28;01mexcept\u001B[39;00m \u001B[38;5;167;01mKeyError\u001B[39;00m \u001B[38;5;28;01mas\u001B[39;00m err:\n",
      "File \u001B[0;32mindex.pyx:167\u001B[0m, in \u001B[0;36mpandas._libs.index.IndexEngine.get_loc\u001B[0;34m()\u001B[0m\n",
      "File \u001B[0;32mindex.pyx:196\u001B[0m, in \u001B[0;36mpandas._libs.index.IndexEngine.get_loc\u001B[0;34m()\u001B[0m\n",
      "File \u001B[0;32mpandas/_libs/hashtable_class_helper.pxi:7081\u001B[0m, in \u001B[0;36mpandas._libs.hashtable.PyObjectHashTable.get_item\u001B[0;34m()\u001B[0m\n",
      "File \u001B[0;32mpandas/_libs/hashtable_class_helper.pxi:7089\u001B[0m, in \u001B[0;36mpandas._libs.hashtable.PyObjectHashTable.get_item\u001B[0;34m()\u001B[0m\n",
      "\u001B[0;31mKeyError\u001B[0m: 'West Bengal'",
      "\nThe above exception was the direct cause of the following exception:\n",
      "\u001B[0;31mKeyError\u001B[0m                                  Traceback (most recent call last)",
      "Cell \u001B[0;32mIn[32], line 7\u001B[0m\n\u001B[1;32m      4\u001B[0m gdf \u001B[38;5;241m=\u001B[39m gpd\u001B[38;5;241m.\u001B[39mread_file(\u001B[38;5;124m\"\u001B[39m\u001B[38;5;124m../datasets/india_taluk.shp\u001B[39m\u001B[38;5;124m\"\u001B[39m)\n\u001B[1;32m      5\u001B[0m \u001B[38;5;66;03m# gdf[\"NAME_1\"].unique()\u001B[39;00m\n\u001B[0;32m----> 7\u001B[0m \u001B[43mgdf\u001B[49m\u001B[43m[\u001B[49m\u001B[38;5;124;43m'\u001B[39;49m\u001B[38;5;124;43mWest Bengal\u001B[39;49m\u001B[38;5;124;43m'\u001B[39;49m\u001B[43m]\u001B[49m[\u001B[38;5;124m\"\u001B[39m\u001B[38;5;124mNAME_2\u001B[39m\u001B[38;5;124m\"\u001B[39m]\u001B[38;5;241m.\u001B[39munique()\n",
      "File \u001B[0;32m~/PycharmProjects/pythonAIProject/.venv/lib/python3.9/site-packages/geopandas/geodataframe.py:1750\u001B[0m, in \u001B[0;36mGeoDataFrame.__getitem__\u001B[0;34m(self, key)\u001B[0m\n\u001B[1;32m   1744\u001B[0m \u001B[38;5;28;01mdef\u001B[39;00m\u001B[38;5;250m \u001B[39m\u001B[38;5;21m__getitem__\u001B[39m(\u001B[38;5;28mself\u001B[39m, key):\n\u001B[1;32m   1745\u001B[0m \u001B[38;5;250m    \u001B[39m\u001B[38;5;124;03m\"\"\"\u001B[39;00m\n\u001B[1;32m   1746\u001B[0m \u001B[38;5;124;03m    If the result is a column containing only 'geometry', return a\u001B[39;00m\n\u001B[1;32m   1747\u001B[0m \u001B[38;5;124;03m    GeoSeries. If it's a DataFrame with any columns of GeometryDtype,\u001B[39;00m\n\u001B[1;32m   1748\u001B[0m \u001B[38;5;124;03m    return a GeoDataFrame.\u001B[39;00m\n\u001B[1;32m   1749\u001B[0m \u001B[38;5;124;03m    \"\"\"\u001B[39;00m\n\u001B[0;32m-> 1750\u001B[0m     result \u001B[38;5;241m=\u001B[39m \u001B[38;5;28;43msuper\u001B[39;49m\u001B[43m(\u001B[49m\u001B[43m)\u001B[49m\u001B[38;5;241;43m.\u001B[39;49m\u001B[38;5;21;43m__getitem__\u001B[39;49m\u001B[43m(\u001B[49m\u001B[43mkey\u001B[49m\u001B[43m)\u001B[49m\n\u001B[1;32m   1751\u001B[0m     \u001B[38;5;66;03m# Custom logic to avoid waiting for pandas GH51895\u001B[39;00m\n\u001B[1;32m   1752\u001B[0m     \u001B[38;5;66;03m# result is not geometry dtype for multi-indexes\u001B[39;00m\n\u001B[1;32m   1753\u001B[0m     \u001B[38;5;28;01mif\u001B[39;00m (\n\u001B[1;32m   1754\u001B[0m         pd\u001B[38;5;241m.\u001B[39mapi\u001B[38;5;241m.\u001B[39mtypes\u001B[38;5;241m.\u001B[39mis_scalar(key)\n\u001B[1;32m   1755\u001B[0m         \u001B[38;5;129;01mand\u001B[39;00m key \u001B[38;5;241m==\u001B[39m \u001B[38;5;124m\"\u001B[39m\u001B[38;5;124m\"\u001B[39m\n\u001B[0;32m   (...)\u001B[0m\n\u001B[1;32m   1758\u001B[0m         \u001B[38;5;129;01mand\u001B[39;00m \u001B[38;5;129;01mnot\u001B[39;00m is_geometry_type(result)\n\u001B[1;32m   1759\u001B[0m     ):\n",
      "File \u001B[0;32m~/PycharmProjects/pythonAIProject/.venv/lib/python3.9/site-packages/pandas/core/frame.py:4102\u001B[0m, in \u001B[0;36mDataFrame.__getitem__\u001B[0;34m(self, key)\u001B[0m\n\u001B[1;32m   4100\u001B[0m \u001B[38;5;28;01mif\u001B[39;00m \u001B[38;5;28mself\u001B[39m\u001B[38;5;241m.\u001B[39mcolumns\u001B[38;5;241m.\u001B[39mnlevels \u001B[38;5;241m>\u001B[39m \u001B[38;5;241m1\u001B[39m:\n\u001B[1;32m   4101\u001B[0m     \u001B[38;5;28;01mreturn\u001B[39;00m \u001B[38;5;28mself\u001B[39m\u001B[38;5;241m.\u001B[39m_getitem_multilevel(key)\n\u001B[0;32m-> 4102\u001B[0m indexer \u001B[38;5;241m=\u001B[39m \u001B[38;5;28;43mself\u001B[39;49m\u001B[38;5;241;43m.\u001B[39;49m\u001B[43mcolumns\u001B[49m\u001B[38;5;241;43m.\u001B[39;49m\u001B[43mget_loc\u001B[49m\u001B[43m(\u001B[49m\u001B[43mkey\u001B[49m\u001B[43m)\u001B[49m\n\u001B[1;32m   4103\u001B[0m \u001B[38;5;28;01mif\u001B[39;00m is_integer(indexer):\n\u001B[1;32m   4104\u001B[0m     indexer \u001B[38;5;241m=\u001B[39m [indexer]\n",
      "File \u001B[0;32m~/PycharmProjects/pythonAIProject/.venv/lib/python3.9/site-packages/pandas/core/indexes/base.py:3812\u001B[0m, in \u001B[0;36mIndex.get_loc\u001B[0;34m(self, key)\u001B[0m\n\u001B[1;32m   3807\u001B[0m     \u001B[38;5;28;01mif\u001B[39;00m \u001B[38;5;28misinstance\u001B[39m(casted_key, \u001B[38;5;28mslice\u001B[39m) \u001B[38;5;129;01mor\u001B[39;00m (\n\u001B[1;32m   3808\u001B[0m         \u001B[38;5;28misinstance\u001B[39m(casted_key, abc\u001B[38;5;241m.\u001B[39mIterable)\n\u001B[1;32m   3809\u001B[0m         \u001B[38;5;129;01mand\u001B[39;00m \u001B[38;5;28many\u001B[39m(\u001B[38;5;28misinstance\u001B[39m(x, \u001B[38;5;28mslice\u001B[39m) \u001B[38;5;28;01mfor\u001B[39;00m x \u001B[38;5;129;01min\u001B[39;00m casted_key)\n\u001B[1;32m   3810\u001B[0m     ):\n\u001B[1;32m   3811\u001B[0m         \u001B[38;5;28;01mraise\u001B[39;00m InvalidIndexError(key)\n\u001B[0;32m-> 3812\u001B[0m     \u001B[38;5;28;01mraise\u001B[39;00m \u001B[38;5;167;01mKeyError\u001B[39;00m(key) \u001B[38;5;28;01mfrom\u001B[39;00m\u001B[38;5;250m \u001B[39m\u001B[38;5;21;01merr\u001B[39;00m\n\u001B[1;32m   3813\u001B[0m \u001B[38;5;28;01mexcept\u001B[39;00m \u001B[38;5;167;01mTypeError\u001B[39;00m:\n\u001B[1;32m   3814\u001B[0m     \u001B[38;5;66;03m# If we have a listlike key, _check_indexing_error will raise\u001B[39;00m\n\u001B[1;32m   3815\u001B[0m     \u001B[38;5;66;03m#  InvalidIndexError. Otherwise we fall through and re-raise\u001B[39;00m\n\u001B[1;32m   3816\u001B[0m     \u001B[38;5;66;03m#  the TypeError.\u001B[39;00m\n\u001B[1;32m   3817\u001B[0m     \u001B[38;5;28mself\u001B[39m\u001B[38;5;241m.\u001B[39m_check_indexing_error(key)\n",
      "\u001B[0;31mKeyError\u001B[0m: 'West Bengal'"
     ]
    }
   ],
   "execution_count": 32
  },
  {
   "metadata": {},
   "cell_type": "code",
   "outputs": [],
   "execution_count": null,
   "source": [
    "# Extract Taluka name, latitude, and longitude\n",
    "gdf[\"latitude\"] = gdf.geometry.centroid.y\n",
    "gdf[\"longitude\"] = gdf.geometry.centroid.x\n",
    "taluka_data = gdf[[\"NAME_3\", \"latitude\", \"longitude\"]]\n",
    "\n",
    "# Save as CSV for easy use\n",
    "taluka_data.to_csv(\"../datasets/taluka_centers.csv\", index=False)"
   ],
   "id": "c547787bbece65af"
  },
  {
   "metadata": {
    "ExecuteTime": {
     "end_time": "2025-03-20T18:19:11.967230Z",
     "start_time": "2025-03-20T18:19:11.898136Z"
    }
   },
   "cell_type": "code",
   "source": [
    "import pandas as pd\n",
    "\n",
    "taluka_df = pd.read_csv(\"taluka_centers.csv\")\n",
    "graph = CityGraph()\n",
    "for _, row in taluka_df.iterrows():\n",
    "    graph.add_city(row[\"NAME_3\"], row[\"latitude\"], row[\"longitude\"])\n"
   ],
   "id": "1c7c3c0605b661ba",
   "outputs": [],
   "execution_count": 10
  },
  {
   "metadata": {
    "ExecuteTime": {
     "end_time": "2025-03-20T18:27:26.087073Z",
     "start_time": "2025-03-20T18:27:26.083245Z"
    }
   },
   "cell_type": "code",
   "source": [
    "\n",
    "\n",
    "# Run Greedy Best-First Search\n",
    "start_city1 = \"Gharghoda\"\n",
    "start_city2 = \"Limbdi\"\n",
    "\n",
    "start_time = time.time()\n",
    "meetup_city, nodes_generated = greedy_best_first_search(graph, start_city1, start_city2)\n",
    "end_time = time.time()\n",
    "\n",
    "print(f\"Optimal Meetup City: {meetup_city}, Nodes Generated: {nodes_generated}, Time: {end_time - start_time:.4f} sec\")"
   ],
   "id": "1726ff28ea181be1",
   "outputs": [
    {
     "name": "stdout",
     "output_type": "stream",
     "text": [
      "Optimal Meetup City: None, Nodes Generated: 0, Time: 0.0004 sec\n"
     ]
    }
   ],
   "execution_count": 22
  }
 ],
 "metadata": {
  "kernelspec": {
   "display_name": "Python 3",
   "language": "python",
   "name": "python3"
  },
  "language_info": {
   "codemirror_mode": {
    "name": "ipython",
    "version": 2
   },
   "file_extension": ".py",
   "mimetype": "text/x-python",
   "name": "python",
   "nbconvert_exporter": "python",
   "pygments_lexer": "ipython2",
   "version": "2.7.6"
  }
 },
 "nbformat": 4,
 "nbformat_minor": 5
}
