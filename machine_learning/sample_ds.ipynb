{
 "cells": [
  {
   "metadata": {},
   "cell_type": "raw",
   "source": "",
   "id": "8edeecd28692150d"
  },
  {
   "metadata": {},
   "cell_type": "markdown",
   "source": "",
   "id": "62f208c82e07e53b"
  },
  {
   "metadata": {},
   "cell_type": "code",
   "source": [
    "import pandas\n",
    "from sklearn.impute import SimpleImputer\n",
    "\n",
    "url  = \"https://raw.githubusercontent.com/ageron/data/refs/heads/main/housing/housing.csv\"\n",
    "housing_df = pandas.read_csv(url)\n",
    "housing_df.head(-10)"
   ],
   "id": "b1e545f1f70b8fa5",
   "outputs": [],
   "execution_count": null
  },
  {
   "metadata": {},
   "cell_type": "code",
   "source": [
    "import pandas as pd\n",
    "\n",
    "archive_data = pd.read_csv('../datasets/archival-report.csv')\n",
    "print(f'Number of cases: {sum(archive_data[\"count\"])} and number of EmailMessages: {len(archive_data[\"count\"])}')\n",
    "archive_data.describe()"
   ],
   "id": "cbd1109f7f6cc413",
   "outputs": [],
   "execution_count": null
  },
  {
   "metadata": {},
   "cell_type": "code",
   "source": [
    "from sklearn.preprocessing import RobustScaler\n",
    "import pandas as pd\n",
    "import numpy as np\n",
    "\n",
    "archive_data = pd.read_csv('../datasets/archival.csv')\n",
    "archive_data.describe()\n",
    "\n",
    "# df_cleaned = archive_data.copy(deep=True)\n",
    "# import matplotlib.pyplot as plt\n",
    "# archive_data.hist(bins=30, figsize=(10, 8))\n",
    "# plt.show()\n",
    "\n",
    "# imputer = SimpleImputer(strategy=\"median\")\n",
    "# imputer.fit(archive_data[['elapsed_time_seconds']])\n",
    "\n",
    "\n"
   ],
   "id": "b15c69add89b029f",
   "outputs": [],
   "execution_count": null
  },
  {
   "metadata": {
    "ExecuteTime": {
     "end_time": "2025-02-18T13:34:53.607714Z",
     "start_time": "2025-02-18T13:34:53.353454Z"
    }
   },
   "cell_type": "code",
   "source": [
    "df_cleaned = archive_data.copy(deep=True)\n",
    "# Select only numerical columns\n",
    "num_cols = df_cleaned.select_dtypes(include=[np.number]).columns\n",
    "\n",
    "scaler = RobustScaler()\n",
    "df_cleaned[num_cols] = scaler.fit_transform(df_cleaned[num_cols])\n",
    "\n",
    "df_cleaned.describe()"
   ],
   "id": "99f3052e17c6e226",
   "outputs": [
    {
     "ename": "NameError",
     "evalue": "name 'archive_data' is not defined",
     "output_type": "error",
     "traceback": [
      "\u001B[0;31m---------------------------------------------------------------------------\u001B[0m",
      "\u001B[0;31mNameError\u001B[0m                                 Traceback (most recent call last)",
      "Cell \u001B[0;32mIn[1], line 1\u001B[0m\n\u001B[0;32m----> 1\u001B[0m df_cleaned \u001B[38;5;241m=\u001B[39m \u001B[43marchive_data\u001B[49m\u001B[38;5;241m.\u001B[39mcopy(deep\u001B[38;5;241m=\u001B[39m\u001B[38;5;28;01mTrue\u001B[39;00m)\n\u001B[1;32m      2\u001B[0m \u001B[38;5;66;03m# Select only numerical columns\u001B[39;00m\n\u001B[1;32m      3\u001B[0m num_cols \u001B[38;5;241m=\u001B[39m df_cleaned\u001B[38;5;241m.\u001B[39mselect_dtypes(include\u001B[38;5;241m=\u001B[39m[np\u001B[38;5;241m.\u001B[39mnumber])\u001B[38;5;241m.\u001B[39mcolumns\n",
      "\u001B[0;31mNameError\u001B[0m: name 'archive_data' is not defined"
     ]
    }
   ],
   "execution_count": 1
  }
 ],
 "metadata": {
  "kernelspec": {
   "name": "python3",
   "language": "python",
   "display_name": "Python 3 (ipykernel)"
  }
 },
 "nbformat": 5,
 "nbformat_minor": 9
}
