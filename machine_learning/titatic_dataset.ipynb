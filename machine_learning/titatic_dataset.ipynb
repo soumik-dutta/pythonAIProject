{
 "cells": [
  {
   "metadata": {},
   "cell_type": "raw",
   "source": [
    "from sklearn.model_selection import GridSearchCV\n",
    "# import kagglehub\n",
    "#\n",
    "# # Download latest version\n",
    "# path = kagglehub.dataset_download(\"yasserh/titanic-dataset\")\n",
    "#\n",
    "# print(\"Path to dataset files:\", path)"
   ],
   "id": "4ce8127d4e633b7a"
  },
  {
   "metadata": {
    "ExecuteTime": {
     "end_time": "2025-03-27T17:02:53.574024Z",
     "start_time": "2025-03-27T17:02:53.534525Z"
    }
   },
   "cell_type": "code",
   "source": [
    "import matplotlib.pyplot as plt\n",
    "import pandas as pd\n",
    "from sklearn.svm import LinearSVC\n",
    "\n",
    "titanic_df = pd.read_csv(\"../datasets/Titanic-Dataset.csv\")\n",
    "titanic_df.head()"
   ],
   "id": "1b87c1a0b05a562c",
   "outputs": [
    {
     "data": {
      "text/plain": [
       "   PassengerId  Survived  Pclass  \\\n",
       "0            1         0       3   \n",
       "1            2         1       1   \n",
       "2            3         1       3   \n",
       "3            4         1       1   \n",
       "4            5         0       3   \n",
       "\n",
       "                                                Name     Sex   Age  SibSp  \\\n",
       "0                            Braund, Mr. Owen Harris    male  22.0      1   \n",
       "1  Cumings, Mrs. John Bradley (Florence Briggs Th...  female  38.0      1   \n",
       "2                             Heikkinen, Miss. Laina  female  26.0      0   \n",
       "3       Futrelle, Mrs. Jacques Heath (Lily May Peel)  female  35.0      1   \n",
       "4                           Allen, Mr. William Henry    male  35.0      0   \n",
       "\n",
       "   Parch            Ticket     Fare Cabin Embarked  \n",
       "0      0         A/5 21171   7.2500   NaN        S  \n",
       "1      0          PC 17599  71.2833   C85        C  \n",
       "2      0  STON/O2. 3101282   7.9250   NaN        S  \n",
       "3      0            113803  53.1000  C123        S  \n",
       "4      0            373450   8.0500   NaN        S  "
      ],
      "text/html": [
       "<div>\n",
       "<style scoped>\n",
       "    .dataframe tbody tr th:only-of-type {\n",
       "        vertical-align: middle;\n",
       "    }\n",
       "\n",
       "    .dataframe tbody tr th {\n",
       "        vertical-align: top;\n",
       "    }\n",
       "\n",
       "    .dataframe thead th {\n",
       "        text-align: right;\n",
       "    }\n",
       "</style>\n",
       "<table border=\"1\" class=\"dataframe\">\n",
       "  <thead>\n",
       "    <tr style=\"text-align: right;\">\n",
       "      <th></th>\n",
       "      <th>PassengerId</th>\n",
       "      <th>Survived</th>\n",
       "      <th>Pclass</th>\n",
       "      <th>Name</th>\n",
       "      <th>Sex</th>\n",
       "      <th>Age</th>\n",
       "      <th>SibSp</th>\n",
       "      <th>Parch</th>\n",
       "      <th>Ticket</th>\n",
       "      <th>Fare</th>\n",
       "      <th>Cabin</th>\n",
       "      <th>Embarked</th>\n",
       "    </tr>\n",
       "  </thead>\n",
       "  <tbody>\n",
       "    <tr>\n",
       "      <th>0</th>\n",
       "      <td>1</td>\n",
       "      <td>0</td>\n",
       "      <td>3</td>\n",
       "      <td>Braund, Mr. Owen Harris</td>\n",
       "      <td>male</td>\n",
       "      <td>22.0</td>\n",
       "      <td>1</td>\n",
       "      <td>0</td>\n",
       "      <td>A/5 21171</td>\n",
       "      <td>7.2500</td>\n",
       "      <td>NaN</td>\n",
       "      <td>S</td>\n",
       "    </tr>\n",
       "    <tr>\n",
       "      <th>1</th>\n",
       "      <td>2</td>\n",
       "      <td>1</td>\n",
       "      <td>1</td>\n",
       "      <td>Cumings, Mrs. John Bradley (Florence Briggs Th...</td>\n",
       "      <td>female</td>\n",
       "      <td>38.0</td>\n",
       "      <td>1</td>\n",
       "      <td>0</td>\n",
       "      <td>PC 17599</td>\n",
       "      <td>71.2833</td>\n",
       "      <td>C85</td>\n",
       "      <td>C</td>\n",
       "    </tr>\n",
       "    <tr>\n",
       "      <th>2</th>\n",
       "      <td>3</td>\n",
       "      <td>1</td>\n",
       "      <td>3</td>\n",
       "      <td>Heikkinen, Miss. Laina</td>\n",
       "      <td>female</td>\n",
       "      <td>26.0</td>\n",
       "      <td>0</td>\n",
       "      <td>0</td>\n",
       "      <td>STON/O2. 3101282</td>\n",
       "      <td>7.9250</td>\n",
       "      <td>NaN</td>\n",
       "      <td>S</td>\n",
       "    </tr>\n",
       "    <tr>\n",
       "      <th>3</th>\n",
       "      <td>4</td>\n",
       "      <td>1</td>\n",
       "      <td>1</td>\n",
       "      <td>Futrelle, Mrs. Jacques Heath (Lily May Peel)</td>\n",
       "      <td>female</td>\n",
       "      <td>35.0</td>\n",
       "      <td>1</td>\n",
       "      <td>0</td>\n",
       "      <td>113803</td>\n",
       "      <td>53.1000</td>\n",
       "      <td>C123</td>\n",
       "      <td>S</td>\n",
       "    </tr>\n",
       "    <tr>\n",
       "      <th>4</th>\n",
       "      <td>5</td>\n",
       "      <td>0</td>\n",
       "      <td>3</td>\n",
       "      <td>Allen, Mr. William Henry</td>\n",
       "      <td>male</td>\n",
       "      <td>35.0</td>\n",
       "      <td>0</td>\n",
       "      <td>0</td>\n",
       "      <td>373450</td>\n",
       "      <td>8.0500</td>\n",
       "      <td>NaN</td>\n",
       "      <td>S</td>\n",
       "    </tr>\n",
       "  </tbody>\n",
       "</table>\n",
       "</div>"
      ]
     },
     "execution_count": 49,
     "metadata": {},
     "output_type": "execute_result"
    }
   ],
   "execution_count": 49
  },
  {
   "metadata": {},
   "cell_type": "markdown",
   "source": [
    "## Find the columns that are irrelevant for the analysis and drop those from the dataset - check with correlation plots\n",
    "## Drop/Impute null or empty values from the dataset\n",
    "## Encode the data with LabelEncoder and OneHotEncoder in case of categorical data\n",
    "## Check for outliers and remove them - boxplot\n",
    "## Use train_test_split to split the data into training and testing sets\n",
    "## Use different classification models to predict the target variable\n",
    "## Compare accuracy, prediction score, recall to find the best model\n",
    "## Use GridSearchCV to find the best hyperparameters for the model\n"
   ],
   "id": "f7c5a0d39f2b20ad"
  },
  {
   "metadata": {
    "ExecuteTime": {
     "end_time": "2025-03-27T17:02:53.632890Z",
     "start_time": "2025-03-27T17:02:53.627409Z"
    }
   },
   "cell_type": "code",
   "source": "titanic_df.drop(columns=[\"PassengerId\", \"Name\", 'Ticket', 'Cabin'], inplace=True)",
   "id": "c5cdc10a9263a98d",
   "outputs": [],
   "execution_count": 50
  },
  {
   "metadata": {
    "ExecuteTime": {
     "end_time": "2025-03-27T17:02:53.679819Z",
     "start_time": "2025-03-27T17:02:53.674520Z"
    }
   },
   "cell_type": "code",
   "source": "titanic_df.head()",
   "id": "3c11a3e684240aac",
   "outputs": [
    {
     "data": {
      "text/plain": [
       "   Survived  Pclass     Sex   Age  SibSp  Parch     Fare Embarked\n",
       "0         0       3    male  22.0      1      0   7.2500        S\n",
       "1         1       1  female  38.0      1      0  71.2833        C\n",
       "2         1       3  female  26.0      0      0   7.9250        S\n",
       "3         1       1  female  35.0      1      0  53.1000        S\n",
       "4         0       3    male  35.0      0      0   8.0500        S"
      ],
      "text/html": [
       "<div>\n",
       "<style scoped>\n",
       "    .dataframe tbody tr th:only-of-type {\n",
       "        vertical-align: middle;\n",
       "    }\n",
       "\n",
       "    .dataframe tbody tr th {\n",
       "        vertical-align: top;\n",
       "    }\n",
       "\n",
       "    .dataframe thead th {\n",
       "        text-align: right;\n",
       "    }\n",
       "</style>\n",
       "<table border=\"1\" class=\"dataframe\">\n",
       "  <thead>\n",
       "    <tr style=\"text-align: right;\">\n",
       "      <th></th>\n",
       "      <th>Survived</th>\n",
       "      <th>Pclass</th>\n",
       "      <th>Sex</th>\n",
       "      <th>Age</th>\n",
       "      <th>SibSp</th>\n",
       "      <th>Parch</th>\n",
       "      <th>Fare</th>\n",
       "      <th>Embarked</th>\n",
       "    </tr>\n",
       "  </thead>\n",
       "  <tbody>\n",
       "    <tr>\n",
       "      <th>0</th>\n",
       "      <td>0</td>\n",
       "      <td>3</td>\n",
       "      <td>male</td>\n",
       "      <td>22.0</td>\n",
       "      <td>1</td>\n",
       "      <td>0</td>\n",
       "      <td>7.2500</td>\n",
       "      <td>S</td>\n",
       "    </tr>\n",
       "    <tr>\n",
       "      <th>1</th>\n",
       "      <td>1</td>\n",
       "      <td>1</td>\n",
       "      <td>female</td>\n",
       "      <td>38.0</td>\n",
       "      <td>1</td>\n",
       "      <td>0</td>\n",
       "      <td>71.2833</td>\n",
       "      <td>C</td>\n",
       "    </tr>\n",
       "    <tr>\n",
       "      <th>2</th>\n",
       "      <td>1</td>\n",
       "      <td>3</td>\n",
       "      <td>female</td>\n",
       "      <td>26.0</td>\n",
       "      <td>0</td>\n",
       "      <td>0</td>\n",
       "      <td>7.9250</td>\n",
       "      <td>S</td>\n",
       "    </tr>\n",
       "    <tr>\n",
       "      <th>3</th>\n",
       "      <td>1</td>\n",
       "      <td>1</td>\n",
       "      <td>female</td>\n",
       "      <td>35.0</td>\n",
       "      <td>1</td>\n",
       "      <td>0</td>\n",
       "      <td>53.1000</td>\n",
       "      <td>S</td>\n",
       "    </tr>\n",
       "    <tr>\n",
       "      <th>4</th>\n",
       "      <td>0</td>\n",
       "      <td>3</td>\n",
       "      <td>male</td>\n",
       "      <td>35.0</td>\n",
       "      <td>0</td>\n",
       "      <td>0</td>\n",
       "      <td>8.0500</td>\n",
       "      <td>S</td>\n",
       "    </tr>\n",
       "  </tbody>\n",
       "</table>\n",
       "</div>"
      ]
     },
     "execution_count": 51,
     "metadata": {},
     "output_type": "execute_result"
    }
   ],
   "execution_count": 51
  },
  {
   "metadata": {
    "ExecuteTime": {
     "end_time": "2025-03-27T17:02:53.768947Z",
     "start_time": "2025-03-27T17:02:53.753839Z"
    }
   },
   "cell_type": "code",
   "source": "titanic_df.info()",
   "id": "c55052cefd29168e",
   "outputs": [
    {
     "name": "stdout",
     "output_type": "stream",
     "text": [
      "<class 'pandas.core.frame.DataFrame'>\n",
      "RangeIndex: 891 entries, 0 to 890\n",
      "Data columns (total 8 columns):\n",
      " #   Column    Non-Null Count  Dtype  \n",
      "---  ------    --------------  -----  \n",
      " 0   Survived  891 non-null    int64  \n",
      " 1   Pclass    891 non-null    int64  \n",
      " 2   Sex       891 non-null    object \n",
      " 3   Age       714 non-null    float64\n",
      " 4   SibSp     891 non-null    int64  \n",
      " 5   Parch     891 non-null    int64  \n",
      " 6   Fare      891 non-null    float64\n",
      " 7   Embarked  889 non-null    object \n",
      "dtypes: float64(2), int64(4), object(2)\n",
      "memory usage: 55.8+ KB\n"
     ]
    }
   ],
   "execution_count": 52
  },
  {
   "metadata": {
    "ExecuteTime": {
     "end_time": "2025-03-27T17:02:53.809183Z",
     "start_time": "2025-03-27T17:02:53.806218Z"
    }
   },
   "cell_type": "code",
   "source": "titanic_df.shape",
   "id": "247c4f79869af00d",
   "outputs": [
    {
     "data": {
      "text/plain": [
       "(891, 8)"
      ]
     },
     "execution_count": 53,
     "metadata": {},
     "output_type": "execute_result"
    }
   ],
   "execution_count": 53
  },
  {
   "metadata": {
    "ExecuteTime": {
     "end_time": "2025-03-27T17:02:53.889375Z",
     "start_time": "2025-03-27T17:02:53.876060Z"
    }
   },
   "cell_type": "code",
   "source": "titanic_df.describe()",
   "id": "fb86a1732d330534",
   "outputs": [
    {
     "data": {
      "text/plain": [
       "         Survived      Pclass         Age       SibSp       Parch        Fare\n",
       "count  891.000000  891.000000  714.000000  891.000000  891.000000  891.000000\n",
       "mean     0.383838    2.308642   29.699118    0.523008    0.381594   32.204208\n",
       "std      0.486592    0.836071   14.526497    1.102743    0.806057   49.693429\n",
       "min      0.000000    1.000000    0.420000    0.000000    0.000000    0.000000\n",
       "25%      0.000000    2.000000   20.125000    0.000000    0.000000    7.910400\n",
       "50%      0.000000    3.000000   28.000000    0.000000    0.000000   14.454200\n",
       "75%      1.000000    3.000000   38.000000    1.000000    0.000000   31.000000\n",
       "max      1.000000    3.000000   80.000000    8.000000    6.000000  512.329200"
      ],
      "text/html": [
       "<div>\n",
       "<style scoped>\n",
       "    .dataframe tbody tr th:only-of-type {\n",
       "        vertical-align: middle;\n",
       "    }\n",
       "\n",
       "    .dataframe tbody tr th {\n",
       "        vertical-align: top;\n",
       "    }\n",
       "\n",
       "    .dataframe thead th {\n",
       "        text-align: right;\n",
       "    }\n",
       "</style>\n",
       "<table border=\"1\" class=\"dataframe\">\n",
       "  <thead>\n",
       "    <tr style=\"text-align: right;\">\n",
       "      <th></th>\n",
       "      <th>Survived</th>\n",
       "      <th>Pclass</th>\n",
       "      <th>Age</th>\n",
       "      <th>SibSp</th>\n",
       "      <th>Parch</th>\n",
       "      <th>Fare</th>\n",
       "    </tr>\n",
       "  </thead>\n",
       "  <tbody>\n",
       "    <tr>\n",
       "      <th>count</th>\n",
       "      <td>891.000000</td>\n",
       "      <td>891.000000</td>\n",
       "      <td>714.000000</td>\n",
       "      <td>891.000000</td>\n",
       "      <td>891.000000</td>\n",
       "      <td>891.000000</td>\n",
       "    </tr>\n",
       "    <tr>\n",
       "      <th>mean</th>\n",
       "      <td>0.383838</td>\n",
       "      <td>2.308642</td>\n",
       "      <td>29.699118</td>\n",
       "      <td>0.523008</td>\n",
       "      <td>0.381594</td>\n",
       "      <td>32.204208</td>\n",
       "    </tr>\n",
       "    <tr>\n",
       "      <th>std</th>\n",
       "      <td>0.486592</td>\n",
       "      <td>0.836071</td>\n",
       "      <td>14.526497</td>\n",
       "      <td>1.102743</td>\n",
       "      <td>0.806057</td>\n",
       "      <td>49.693429</td>\n",
       "    </tr>\n",
       "    <tr>\n",
       "      <th>min</th>\n",
       "      <td>0.000000</td>\n",
       "      <td>1.000000</td>\n",
       "      <td>0.420000</td>\n",
       "      <td>0.000000</td>\n",
       "      <td>0.000000</td>\n",
       "      <td>0.000000</td>\n",
       "    </tr>\n",
       "    <tr>\n",
       "      <th>25%</th>\n",
       "      <td>0.000000</td>\n",
       "      <td>2.000000</td>\n",
       "      <td>20.125000</td>\n",
       "      <td>0.000000</td>\n",
       "      <td>0.000000</td>\n",
       "      <td>7.910400</td>\n",
       "    </tr>\n",
       "    <tr>\n",
       "      <th>50%</th>\n",
       "      <td>0.000000</td>\n",
       "      <td>3.000000</td>\n",
       "      <td>28.000000</td>\n",
       "      <td>0.000000</td>\n",
       "      <td>0.000000</td>\n",
       "      <td>14.454200</td>\n",
       "    </tr>\n",
       "    <tr>\n",
       "      <th>75%</th>\n",
       "      <td>1.000000</td>\n",
       "      <td>3.000000</td>\n",
       "      <td>38.000000</td>\n",
       "      <td>1.000000</td>\n",
       "      <td>0.000000</td>\n",
       "      <td>31.000000</td>\n",
       "    </tr>\n",
       "    <tr>\n",
       "      <th>max</th>\n",
       "      <td>1.000000</td>\n",
       "      <td>3.000000</td>\n",
       "      <td>80.000000</td>\n",
       "      <td>8.000000</td>\n",
       "      <td>6.000000</td>\n",
       "      <td>512.329200</td>\n",
       "    </tr>\n",
       "  </tbody>\n",
       "</table>\n",
       "</div>"
      ]
     },
     "execution_count": 54,
     "metadata": {},
     "output_type": "execute_result"
    }
   ],
   "execution_count": 54
  },
  {
   "metadata": {
    "ExecuteTime": {
     "end_time": "2025-03-27T17:02:53.958679Z",
     "start_time": "2025-03-27T17:02:53.952195Z"
    }
   },
   "cell_type": "code",
   "source": "titanic_df[titanic_df.isnull().any(axis=1)].count()",
   "id": "47eddaeb5f71e4c5",
   "outputs": [
    {
     "data": {
      "text/plain": [
       "Survived    179\n",
       "Pclass      179\n",
       "Sex         179\n",
       "Age           2\n",
       "SibSp       179\n",
       "Parch       179\n",
       "Fare        179\n",
       "Embarked    177\n",
       "dtype: int64"
      ]
     },
     "execution_count": 55,
     "metadata": {},
     "output_type": "execute_result"
    }
   ],
   "execution_count": 55
  },
  {
   "metadata": {
    "ExecuteTime": {
     "end_time": "2025-03-27T17:02:54.598332Z",
     "start_time": "2025-03-27T17:02:54.015928Z"
    }
   },
   "cell_type": "code",
   "source": [
    "# check na values\n",
    "import seaborn as sns\n",
    "\n",
    "sns.heatmap(titanic_df.isnull())"
   ],
   "id": "1179b052b8d848c1",
   "outputs": [
    {
     "data": {
      "text/plain": [
       "<Axes: >"
      ]
     },
     "execution_count": 56,
     "metadata": {},
     "output_type": "execute_result"
    },
    {
     "data": {
      "text/plain": [
       "<Figure size 640x480 with 2 Axes>"
      ],
      "image/png": "[encoded data removed]"
     },
     "metadata": {},
     "output_type": "display_data"
    }
   ],
   "execution_count": 56
  },
  {
   "metadata": {
    "ExecuteTime": {
     "end_time": "2025-03-27T17:02:54.629715Z",
     "start_time": "2025-03-27T17:02:54.623458Z"
    }
   },
   "cell_type": "code",
   "source": [
    "\"\"\"Drop rows with missing values\"\"\"\n",
    "titanic_df.dropna(inplace=True)\n",
    "titanic_df[titanic_df.isnull().any(axis=1)].count()"
   ],
   "id": "fa7833c6bf87f6be",
   "outputs": [
    {
     "data": {
      "text/plain": [
       "Survived    0\n",
       "Pclass      0\n",
       "Sex         0\n",
       "Age         0\n",
       "SibSp       0\n",
       "Parch       0\n",
       "Fare        0\n",
       "Embarked    0\n",
       "dtype: int64"
      ]
     },
     "execution_count": 57,
     "metadata": {},
     "output_type": "execute_result"
    }
   ],
   "execution_count": 57
  },
  {
   "metadata": {
    "ExecuteTime": {
     "end_time": "2025-03-27T17:02:54.692120Z",
     "start_time": "2025-03-27T17:02:54.688765Z"
    }
   },
   "cell_type": "code",
   "source": "titanic_df.shape",
   "id": "8cd4ec4a0cf5c45c",
   "outputs": [
    {
     "data": {
      "text/plain": [
       "(712, 8)"
      ]
     },
     "execution_count": 58,
     "metadata": {},
     "output_type": "execute_result"
    }
   ],
   "execution_count": 58
  },
  {
   "metadata": {
    "ExecuteTime": {
     "end_time": "2025-03-27T17:02:54.744767Z",
     "start_time": "2025-03-27T17:02:54.741658Z"
    }
   },
   "cell_type": "code",
   "source": [
    "from sklearn import preprocessing\n",
    "\n",
    "encoder = preprocessing.LabelEncoder()\n",
    "titanic_df['Sex'] = encoder.fit_transform(titanic_df['Sex']).astype(str)"
   ],
   "id": "2968ced0283e189f",
   "outputs": [],
   "execution_count": 59
  },
  {
   "metadata": {
    "ExecuteTime": {
     "end_time": "2025-03-27T17:02:54.832292Z",
     "start_time": "2025-03-27T17:02:54.820256Z"
    }
   },
   "cell_type": "code",
   "source": [
    "oneHotEncoder = preprocessing.OneHotEncoder()\n",
    "titanic_df['Embarked'] = encoder.fit_transform(titanic_df['Embarked']).astype(str)\n",
    "t = pd.get_dummies(titanic_df['Embarked'])\n",
    "\n",
    "titanic_df.describe()\n",
    "\n"
   ],
   "id": "2f24f501e9aca3bc",
   "outputs": [
    {
     "data": {
      "text/plain": [
       "         Survived      Pclass         Age       SibSp       Parch        Fare\n",
       "count  712.000000  712.000000  712.000000  712.000000  712.000000  712.000000\n",
       "mean     0.404494    2.240169   29.642093    0.514045    0.432584   34.567251\n",
       "std      0.491139    0.836854   14.492933    0.930692    0.854181   52.938648\n",
       "min      0.000000    1.000000    0.420000    0.000000    0.000000    0.000000\n",
       "25%      0.000000    1.000000   20.000000    0.000000    0.000000    8.050000\n",
       "50%      0.000000    2.000000   28.000000    0.000000    0.000000   15.645850\n",
       "75%      1.000000    3.000000   38.000000    1.000000    1.000000   33.000000\n",
       "max      1.000000    3.000000   80.000000    5.000000    6.000000  512.329200"
      ],
      "text/html": [
       "<div>\n",
       "<style scoped>\n",
       "    .dataframe tbody tr th:only-of-type {\n",
       "        vertical-align: middle;\n",
       "    }\n",
       "\n",
       "    .dataframe tbody tr th {\n",
       "        vertical-align: top;\n",
       "    }\n",
       "\n",
       "    .dataframe thead th {\n",
       "        text-align: right;\n",
       "    }\n",
       "</style>\n",
       "<table border=\"1\" class=\"dataframe\">\n",
       "  <thead>\n",
       "    <tr style=\"text-align: right;\">\n",
       "      <th></th>\n",
       "      <th>Survived</th>\n",
       "      <th>Pclass</th>\n",
       "      <th>Age</th>\n",
       "      <th>SibSp</th>\n",
       "      <th>Parch</th>\n",
       "      <th>Fare</th>\n",
       "    </tr>\n",
       "  </thead>\n",
       "  <tbody>\n",
       "    <tr>\n",
       "      <th>count</th>\n",
       "      <td>712.000000</td>\n",
       "      <td>712.000000</td>\n",
       "      <td>712.000000</td>\n",
       "      <td>712.000000</td>\n",
       "      <td>712.000000</td>\n",
       "      <td>712.000000</td>\n",
       "    </tr>\n",
       "    <tr>\n",
       "      <th>mean</th>\n",
       "      <td>0.404494</td>\n",
       "      <td>2.240169</td>\n",
       "      <td>29.642093</td>\n",
       "      <td>0.514045</td>\n",
       "      <td>0.432584</td>\n",
       "      <td>34.567251</td>\n",
       "    </tr>\n",
       "    <tr>\n",
       "      <th>std</th>\n",
       "      <td>0.491139</td>\n",
       "      <td>0.836854</td>\n",
       "      <td>14.492933</td>\n",
       "      <td>0.930692</td>\n",
       "      <td>0.854181</td>\n",
       "      <td>52.938648</td>\n",
       "    </tr>\n",
       "    <tr>\n",
       "      <th>min</th>\n",
       "      <td>0.000000</td>\n",
       "      <td>1.000000</td>\n",
       "      <td>0.420000</td>\n",
       "      <td>0.000000</td>\n",
       "      <td>0.000000</td>\n",
       "      <td>0.000000</td>\n",
       "    </tr>\n",
       "    <tr>\n",
       "      <th>25%</th>\n",
       "      <td>0.000000</td>\n",
       "      <td>1.000000</td>\n",
       "      <td>20.000000</td>\n",
       "      <td>0.000000</td>\n",
       "      <td>0.000000</td>\n",
       "      <td>8.050000</td>\n",
       "    </tr>\n",
       "    <tr>\n",
       "      <th>50%</th>\n",
       "      <td>0.000000</td>\n",
       "      <td>2.000000</td>\n",
       "      <td>28.000000</td>\n",
       "      <td>0.000000</td>\n",
       "      <td>0.000000</td>\n",
       "      <td>15.645850</td>\n",
       "    </tr>\n",
       "    <tr>\n",
       "      <th>75%</th>\n",
       "      <td>1.000000</td>\n",
       "      <td>3.000000</td>\n",
       "      <td>38.000000</td>\n",
       "      <td>1.000000</td>\n",
       "      <td>1.000000</td>\n",
       "      <td>33.000000</td>\n",
       "    </tr>\n",
       "    <tr>\n",
       "      <th>max</th>\n",
       "      <td>1.000000</td>\n",
       "      <td>3.000000</td>\n",
       "      <td>80.000000</td>\n",
       "      <td>5.000000</td>\n",
       "      <td>6.000000</td>\n",
       "      <td>512.329200</td>\n",
       "    </tr>\n",
       "  </tbody>\n",
       "</table>\n",
       "</div>"
      ]
     },
     "execution_count": 60,
     "metadata": {},
     "output_type": "execute_result"
    }
   ],
   "execution_count": 60
  },
  {
   "metadata": {
    "ExecuteTime": {
     "end_time": "2025-03-27T17:02:55.053964Z",
     "start_time": "2025-03-27T17:02:54.878405Z"
    }
   },
   "cell_type": "code",
   "source": [
    "# check na values\n",
    "import seaborn as sns\n",
    "\n",
    "sns.heatmap(titanic_df.isnull())"
   ],
   "id": "bd59769b61269eab",
   "outputs": [
    {
     "data": {
      "text/plain": [
       "<Axes: >"
      ]
     },
     "execution_count": 61,
     "metadata": {},
     "output_type": "execute_result"
    },
    {
     "data": {
      "text/plain": [
       "<Figure size 640x480 with 2 Axes>"
      ],
      "image/png": "[encoded data removed]"
     },
     "metadata": {},
     "output_type": "display_data"
    }
   ],
   "execution_count": 61
  },
  {
   "metadata": {
    "ExecuteTime": {
     "end_time": "2025-03-27T17:02:55.193808Z",
     "start_time": "2025-03-27T17:02:55.079842Z"
    }
   },
   "cell_type": "code",
   "source": "plt.scatter(titanic_df['Survived'], titanic_df['Survived'])",
   "id": "240b3ba88098e201",
   "outputs": [
    {
     "data": {
      "text/plain": [
       "<matplotlib.collections.PathCollection at 0x14f3b04c0>"
      ]
     },
     "execution_count": 62,
     "metadata": {},
     "output_type": "execute_result"
    },
    {
     "data": {
      "text/plain": [
       "<Figure size 640x480 with 1 Axes>"
      ],
      "image/png": "[encoded data removed]"
     },
     "metadata": {},
     "output_type": "display_data"
    }
   ],
   "execution_count": 62
  },
  {
   "metadata": {
    "ExecuteTime": {
     "end_time": "2025-03-27T17:02:55.224416Z",
     "start_time": "2025-03-27T17:02:55.221542Z"
    }
   },
   "cell_type": "code",
   "source": "titanic_df.dropna(inplace=True)",
   "id": "3ac922acc1f35559",
   "outputs": [],
   "execution_count": 63
  },
  {
   "metadata": {
    "ExecuteTime": {
     "end_time": "2025-03-27T17:02:55.399349Z",
     "start_time": "2025-03-27T17:02:55.258077Z"
    }
   },
   "cell_type": "code",
   "source": [
    "import numpy as np\n",
    "import seaborn as sns\n",
    "import matplotlib.pyplot as plt\n",
    "\n",
    "\n",
    "def create_boxplot(df):\n",
    "    df_copy = df.copy()\n",
    "    num_cols = df_copy.select_dtypes(include=[\"float64\", \"int64\"]).columns\n",
    "    plt.figure(figsize=(12, 7))\n",
    "    sns.boxplot(data=df_copy[num_cols])\n",
    "    plt.xticks(rotation=45)\n",
    "    plt.title(\"Box Plot of Numerical Features\")\n",
    "    plt.ylabel(\"Value\")\n",
    "    plt.xlabel(\"Features\")\n",
    "    plt.show()\n",
    "\n",
    "\n",
    "def replace_outliers_iqr(df):\n",
    "    for column in df.select_dtypes(include=[\"float64\", \"int64\"]).columns:\n",
    "        # Calculate Q1, Q3, and IQR\n",
    "        Q1 = df[column].quantile(0.25)\n",
    "        Q3 = df[column].quantile(0.75)\n",
    "        IQR = Q3 - Q1\n",
    "\n",
    "        # Define lower and upper bounds\n",
    "        lower_bound = Q1 - 1.5 * IQR\n",
    "        upper_bound = Q3 + 1.5 * IQR\n",
    "\n",
    "        # Replace outliers with the bounds\n",
    "        df[column] = np.where(df[column] < lower_bound, lower_bound, df[column])  # Replace values below lower bound\n",
    "        df[column] = np.where(df[column] > upper_bound, upper_bound, df[column])  # Replace values above upper bound\n",
    "\n",
    "    return df\n",
    "\n",
    "\n",
    "# fining outliers\n",
    "# df_copy = titanic_df.copy(deep=True)\n",
    "create_boxplot(titanic_df)\n"
   ],
   "id": "4cb16fefda90d83b",
   "outputs": [
    {
     "data": {
      "text/plain": [
       "<Figure size 1200x700 with 1 Axes>"
      ],
      "image/png": "[encoded data removed]"
     },
     "metadata": {},
     "output_type": "display_data"
    }
   ],
   "execution_count": 64
  },
  {
   "metadata": {
    "ExecuteTime": {
     "end_time": "2025-03-27T17:02:55.422031Z",
     "start_time": "2025-03-27T17:02:55.416129Z"
    }
   },
   "cell_type": "code",
   "source": [
    "from sklearn.model_selection import train_test_split, GridSearchCV\n",
    "\n",
    "X = titanic_df.drop(columns=[\"Survived\"])  # Features (all columns except 'Price')\n",
    "y = titanic_df[\"Survived\"]\n",
    "X_train, X_test, y_train, y_test = train_test_split(X, y, test_size=0.2, random_state=42)"
   ],
   "id": "8e8fe1d844ff4ff2",
   "outputs": [],
   "execution_count": 65
  },
  {
   "metadata": {
    "ExecuteTime": {
     "end_time": "2025-03-27T17:02:55.464962Z",
     "start_time": "2025-03-27T17:02:55.450371Z"
    }
   },
   "cell_type": "code",
   "source": [
    "from sklearn.metrics import accuracy_score\n",
    "from sklearn.linear_model import LinearRegression, LogisticRegression\n",
    "\n",
    "lr_model = LogisticRegression()\n",
    "lr_model.fit(X_train, y_train)\n",
    "y_pred = lr_model.predict(X_test)\n",
    "accuracy = accuracy_score(y_test, y_pred)\n",
    "\n"
   ],
   "id": "2719efce5c11cd6",
   "outputs": [],
   "execution_count": 66
  },
  {
   "metadata": {
    "ExecuteTime": {
     "end_time": "2025-03-27T17:02:55.488492Z",
     "start_time": "2025-03-27T17:02:55.483508Z"
    }
   },
   "cell_type": "code",
   "source": [
    "from sklearn.metrics import precision_score, recall_score\n",
    "\n",
    "\n",
    "def summarize_classification(y_test, y_pred):\n",
    "    acc = accuracy_score(y_test, y_pred, normalize=True)\n",
    "    num_acc = accuracy_score(y_test, y_pred, normalize=False)\n",
    "    prec = precision_score(y_test, y_pred)\n",
    "    recall = recall_score(y_test, y_pred)\n",
    "    return {'accuracy': acc, 'precision': prec, 'recall': recall, 'accuracy_count': num_acc}\n",
    "\n",
    "\n",
    "def build_model(classification_fn, name_of_y_col, names_of_x_cols, dataset, test_frac=0.2):\n",
    "    X = dataset[names_of_x_cols]\n",
    "    Y = dataset[name_of_y_col]\n",
    "\n",
    "    x_train, x_test, y_train, y_test = train_test_split(X, Y, test_size=test_frac)\n",
    "    model = classification_fn(x_train, y_train)\n",
    "    y_pred = model.predict(x_test)\n",
    "\n",
    "    y_pred_train = model.predict(x_train)\n",
    "    train_summary = summarize_classification(y_train, y_pred_train)\n",
    "    test_summary = summarize_classification(y_test, y_pred)\n",
    "\n",
    "    pred_results = pd.DataFrame({'y_test': y_test, 'y_pred': y_pred})\n",
    "    model_crosstab = pd.crosstab(pred_results.y_pred, pred_results.y_test)\n",
    "\n",
    "    return {'training': train_summary,\n",
    "            'test': test_summary,\n",
    "            'confusion_matrix': model_crosstab}\n",
    "\n",
    "\n",
    "def compare_results(result_dict):\n",
    "    for key in result_dict:\n",
    "        print('Classification: ', key)\n",
    "        print()\n",
    "        print('Training data')\n",
    "        for score in result_dict[key]['training']:\n",
    "            print(score, result_dict[key]['training'][score])\n",
    "        print()\n",
    "        print('Test data')\n",
    "        for score in result_dict[key]['test']:\n",
    "            print(score, result_dict[key]['test'][score])\n",
    "        print()"
   ],
   "id": "454bcc1ae5178441",
   "outputs": [],
   "execution_count": 67
  },
  {
   "metadata": {},
   "cell_type": "markdown",
   "source": "## Running Logistic Regression model",
   "id": "cfdb3bf95ff2372a"
  },
  {
   "metadata": {
    "ExecuteTime": {
     "end_time": "2025-03-27T17:02:55.529239Z",
     "start_time": "2025-03-27T17:02:55.513137Z"
    }
   },
   "cell_type": "code",
   "source": [
    "def logistic_fn(x_train, y_train):\n",
    "    model = LogisticRegression(solver='liblinear')\n",
    "    model.fit(x_train, y_train)\n",
    "    return model\n",
    "\n",
    "\n",
    "result_dict = dict()\n",
    "result_dict['survived ~ logistic'] = build_model(logistic_fn, 'Survived', X.columns, titanic_df)\n",
    "compare_results(result_dict)"
   ],
   "id": "88e11add5cf40c32",
   "outputs": [
    {
     "name": "stdout",
     "output_type": "stream",
     "text": [
      "Classification:  survived ~ logistic\n",
      "\n",
      "Training data\n",
      "accuracy 0.8031634446397188\n",
      "precision 0.7871287128712872\n",
      "recall 0.6973684210526315\n",
      "accuracy_count 457.0\n",
      "\n",
      "Test data\n",
      "accuracy 0.7622377622377622\n",
      "precision 0.75\n",
      "recall 0.65\n",
      "accuracy_count 109.0\n",
      "\n"
     ]
    }
   ],
   "execution_count": 68
  },
  {
   "metadata": {},
   "cell_type": "markdown",
   "source": "## Running Linear Discriminant Analysis model",
   "id": "853edf2ab25c0b24"
  },
  {
   "metadata": {
    "ExecuteTime": {
     "end_time": "2025-03-27T17:02:55.559307Z",
     "start_time": "2025-03-27T17:02:55.541688Z"
    }
   },
   "cell_type": "code",
   "source": [
    "def linear_discriminant_fn(x_train, y_train):\n",
    "    from sklearn.discriminant_analysis import LinearDiscriminantAnalysis\n",
    "    model = LinearDiscriminantAnalysis()\n",
    "    model.fit(x_train, y_train)\n",
    "    return model\n",
    "\n",
    "\n",
    "result_dict['survived ~ linear_discriminant'] = build_model(linear_discriminant_fn, 'Survived', X.columns, titanic_df)\n",
    "compare_results(result_dict)"
   ],
   "id": "266b489bfe7e8eb8",
   "outputs": [
    {
     "name": "stdout",
     "output_type": "stream",
     "text": [
      "Classification:  survived ~ logistic\n",
      "\n",
      "Training data\n",
      "accuracy 0.8031634446397188\n",
      "precision 0.7871287128712872\n",
      "recall 0.6973684210526315\n",
      "accuracy_count 457.0\n",
      "\n",
      "Test data\n",
      "accuracy 0.7622377622377622\n",
      "precision 0.75\n",
      "recall 0.65\n",
      "accuracy_count 109.0\n",
      "\n",
      "Classification:  survived ~ linear_discriminant\n",
      "\n",
      "Training data\n",
      "accuracy 0.8031634446397188\n",
      "precision 0.7733333333333333\n",
      "recall 0.7404255319148936\n",
      "accuracy_count 457.0\n",
      "\n",
      "Test data\n",
      "accuracy 0.7762237762237763\n",
      "precision 0.7333333333333333\n",
      "recall 0.6226415094339622\n",
      "accuracy_count 111.0\n",
      "\n"
     ]
    }
   ],
   "execution_count": 69
  },
  {
   "metadata": {},
   "cell_type": "markdown",
   "source": "## Running Quadratic Discriminant Analysis model",
   "id": "410508234d18e116"
  },
  {
   "metadata": {
    "ExecuteTime": {
     "end_time": "2025-03-27T17:02:55.593873Z",
     "start_time": "2025-03-27T17:02:55.570853Z"
    }
   },
   "cell_type": "code",
   "source": [
    "def quadratic_discriminant_fn(x_train, y_train):\n",
    "    from sklearn.discriminant_analysis import QuadraticDiscriminantAnalysis\n",
    "    model = QuadraticDiscriminantAnalysis()\n",
    "    model.fit(x_train, y_train)\n",
    "    return model\n",
    "\n",
    "\n",
    "result_dict['survived ~ quadratic_discriminant'] = build_model(quadratic_discriminant_fn, 'Survived', X.columns,\n",
    "                                                               titanic_df)\n",
    "compare_results(result_dict)"
   ],
   "id": "a36a97eafdd45f35",
   "outputs": [
    {
     "name": "stdout",
     "output_type": "stream",
     "text": [
      "Classification:  survived ~ logistic\n",
      "\n",
      "Training data\n",
      "accuracy 0.8031634446397188\n",
      "precision 0.7871287128712872\n",
      "recall 0.6973684210526315\n",
      "accuracy_count 457.0\n",
      "\n",
      "Test data\n",
      "accuracy 0.7622377622377622\n",
      "precision 0.75\n",
      "recall 0.65\n",
      "accuracy_count 109.0\n",
      "\n",
      "Classification:  survived ~ linear_discriminant\n",
      "\n",
      "Training data\n",
      "accuracy 0.8031634446397188\n",
      "precision 0.7733333333333333\n",
      "recall 0.7404255319148936\n",
      "accuracy_count 457.0\n",
      "\n",
      "Test data\n",
      "accuracy 0.7762237762237763\n",
      "precision 0.7333333333333333\n",
      "recall 0.6226415094339622\n",
      "accuracy_count 111.0\n",
      "\n",
      "Classification:  survived ~ quadratic_discriminant\n",
      "\n",
      "Training data\n",
      "accuracy 0.8014059753954306\n",
      "precision 0.7718446601941747\n",
      "recall 0.7066666666666667\n",
      "accuracy_count 456.0\n",
      "\n",
      "Test data\n",
      "accuracy 0.8531468531468531\n",
      "precision 0.828125\n",
      "recall 0.8412698412698413\n",
      "accuracy_count 122.0\n",
      "\n"
     ]
    }
   ],
   "execution_count": 70
  },
  {
   "metadata": {},
   "cell_type": "markdown",
   "source": "## Running Stochastic Gradient Descent model",
   "id": "879e44e82dedd7b3"
  },
  {
   "metadata": {
    "ExecuteTime": {
     "end_time": "2025-03-27T17:02:55.625043Z",
     "start_time": "2025-03-27T17:02:55.606331Z"
    }
   },
   "cell_type": "code",
   "source": [
    "def sgd_fn(x_train, y_train):\n",
    "    from sklearn.linear_model import SGDClassifier\n",
    "    model = SGDClassifier(max_iter=1000, tol=1e-3)\n",
    "    model.fit(x_train, y_train)\n",
    "    return model\n",
    "\n",
    "\n",
    "result_dict['survived ~ sgd'] = build_model(sgd_fn, 'Survived', X.columns, titanic_df)\n",
    "compare_results(result_dict)"
   ],
   "id": "33221846ea6d56a3",
   "outputs": [
    {
     "name": "stdout",
     "output_type": "stream",
     "text": [
      "Classification:  survived ~ logistic\n",
      "\n",
      "Training data\n",
      "accuracy 0.8031634446397188\n",
      "precision 0.7871287128712872\n",
      "recall 0.6973684210526315\n",
      "accuracy_count 457.0\n",
      "\n",
      "Test data\n",
      "accuracy 0.7622377622377622\n",
      "precision 0.75\n",
      "recall 0.65\n",
      "accuracy_count 109.0\n",
      "\n",
      "Classification:  survived ~ linear_discriminant\n",
      "\n",
      "Training data\n",
      "accuracy 0.8031634446397188\n",
      "precision 0.7733333333333333\n",
      "recall 0.7404255319148936\n",
      "accuracy_count 457.0\n",
      "\n",
      "Test data\n",
      "accuracy 0.7762237762237763\n",
      "precision 0.7333333333333333\n",
      "recall 0.6226415094339622\n",
      "accuracy_count 111.0\n",
      "\n",
      "Classification:  survived ~ quadratic_discriminant\n",
      "\n",
      "Training data\n",
      "accuracy 0.8014059753954306\n",
      "precision 0.7718446601941747\n",
      "recall 0.7066666666666667\n",
      "accuracy_count 456.0\n",
      "\n",
      "Test data\n",
      "accuracy 0.8531468531468531\n",
      "precision 0.828125\n",
      "recall 0.8412698412698413\n",
      "accuracy_count 122.0\n",
      "\n",
      "Classification:  survived ~ sgd\n",
      "\n",
      "Training data\n",
      "accuracy 0.7311072056239016\n",
      "precision 0.6303630363036303\n",
      "recall 0.8232758620689655\n",
      "accuracy_count 416.0\n",
      "\n",
      "Test data\n",
      "accuracy 0.7692307692307693\n",
      "precision 0.6619718309859155\n",
      "recall 0.8392857142857143\n",
      "accuracy_count 110.0\n",
      "\n"
     ]
    }
   ],
   "execution_count": 71
  },
  {
   "metadata": {},
   "cell_type": "markdown",
   "source": "## Running Support Vector Machine",
   "id": "efe80933ac3f4945"
  },
  {
   "metadata": {
    "ExecuteTime": {
     "end_time": "2025-03-27T17:02:55.654859Z",
     "start_time": "2025-03-27T17:02:55.640678Z"
    }
   },
   "cell_type": "code",
   "source": [
    "def svc_fn(x_train, y_train, c=1.0, max_iter=1000, tol=1e-3):\n",
    "    from sklearn.svm import LinearSVC\n",
    "    model = LinearSVC(C=c, max_iter=max_iter, tol=tol, dual=False)\n",
    "    model.fit(x_train, y_train)\n",
    "    return model\n",
    "\n",
    "\n",
    "result_dict['survived ~ linear_svc'] = build_model(svc_fn, 'Survived', X.columns, titanic_df)\n",
    "compare_results(result_dict)\n"
   ],
   "id": "2a7c8c855ef9e6ca",
   "outputs": [
    {
     "name": "stdout",
     "output_type": "stream",
     "text": [
      "Classification:  survived ~ logistic\n",
      "\n",
      "Training data\n",
      "accuracy 0.8031634446397188\n",
      "precision 0.7871287128712872\n",
      "recall 0.6973684210526315\n",
      "accuracy_count 457.0\n",
      "\n",
      "Test data\n",
      "accuracy 0.7622377622377622\n",
      "precision 0.75\n",
      "recall 0.65\n",
      "accuracy_count 109.0\n",
      "\n",
      "Classification:  survived ~ linear_discriminant\n",
      "\n",
      "Training data\n",
      "accuracy 0.8031634446397188\n",
      "precision 0.7733333333333333\n",
      "recall 0.7404255319148936\n",
      "accuracy_count 457.0\n",
      "\n",
      "Test data\n",
      "accuracy 0.7762237762237763\n",
      "precision 0.7333333333333333\n",
      "recall 0.6226415094339622\n",
      "accuracy_count 111.0\n",
      "\n",
      "Classification:  survived ~ quadratic_discriminant\n",
      "\n",
      "Training data\n",
      "accuracy 0.8014059753954306\n",
      "precision 0.7718446601941747\n",
      "recall 0.7066666666666667\n",
      "accuracy_count 456.0\n",
      "\n",
      "Test data\n",
      "accuracy 0.8531468531468531\n",
      "precision 0.828125\n",
      "recall 0.8412698412698413\n",
      "accuracy_count 122.0\n",
      "\n",
      "Classification:  survived ~ sgd\n",
      "\n",
      "Training data\n",
      "accuracy 0.7311072056239016\n",
      "precision 0.6303630363036303\n",
      "recall 0.8232758620689655\n",
      "accuracy_count 416.0\n",
      "\n",
      "Test data\n",
      "accuracy 0.7692307692307693\n",
      "precision 0.6619718309859155\n",
      "recall 0.8392857142857143\n",
      "accuracy_count 110.0\n",
      "\n",
      "Classification:  survived ~ linear_svc\n",
      "\n",
      "Training data\n",
      "accuracy 0.7996485061511424\n",
      "precision 0.7638888888888888\n",
      "recall 0.7236842105263158\n",
      "accuracy_count 455.0\n",
      "\n",
      "Test data\n",
      "accuracy 0.7832167832167832\n",
      "precision 0.8222222222222222\n",
      "recall 0.6166666666666667\n",
      "accuracy_count 112.0\n",
      "\n"
     ]
    }
   ],
   "execution_count": 72
  },
  {
   "metadata": {},
   "cell_type": "markdown",
   "source": "## Running K Nearest Neighbors - Radius Neighbour",
   "id": "9ff6146412aa9e53"
  },
  {
   "metadata": {
    "ExecuteTime": {
     "end_time": "2025-03-27T17:02:55.691229Z",
     "start_time": "2025-03-27T17:02:55.668252Z"
    }
   },
   "cell_type": "code",
   "source": [
    "def radius_neighnours_fn(x_train, y_train, radius=40.0):\n",
    "    from sklearn.neighbors import RadiusNeighborsClassifier\n",
    "    model = RadiusNeighborsClassifier(radius=radius)\n",
    "    model.fit(x_train, y_train)\n",
    "    return model\n",
    "\n",
    "\n",
    "result_dict['survived ~ radius_neighnours'] = build_model(radius_neighnours_fn, 'Survived', X.columns, titanic_df)\n",
    "compare_results(result_dict)"
   ],
   "id": "8dd914214ff9d34b",
   "outputs": [
    {
     "name": "stdout",
     "output_type": "stream",
     "text": [
      "Classification:  survived ~ logistic\n",
      "\n",
      "Training data\n",
      "accuracy 0.8031634446397188\n",
      "precision 0.7871287128712872\n",
      "recall 0.6973684210526315\n",
      "accuracy_count 457.0\n",
      "\n",
      "Test data\n",
      "accuracy 0.7622377622377622\n",
      "precision 0.75\n",
      "recall 0.65\n",
      "accuracy_count 109.0\n",
      "\n",
      "Classification:  survived ~ linear_discriminant\n",
      "\n",
      "Training data\n",
      "accuracy 0.8031634446397188\n",
      "precision 0.7733333333333333\n",
      "recall 0.7404255319148936\n",
      "accuracy_count 457.0\n",
      "\n",
      "Test data\n",
      "accuracy 0.7762237762237763\n",
      "precision 0.7333333333333333\n",
      "recall 0.6226415094339622\n",
      "accuracy_count 111.0\n",
      "\n",
      "Classification:  survived ~ quadratic_discriminant\n",
      "\n",
      "Training data\n",
      "accuracy 0.8014059753954306\n",
      "precision 0.7718446601941747\n",
      "recall 0.7066666666666667\n",
      "accuracy_count 456.0\n",
      "\n",
      "Test data\n",
      "accuracy 0.8531468531468531\n",
      "precision 0.828125\n",
      "recall 0.8412698412698413\n",
      "accuracy_count 122.0\n",
      "\n",
      "Classification:  survived ~ sgd\n",
      "\n",
      "Training data\n",
      "accuracy 0.7311072056239016\n",
      "precision 0.6303630363036303\n",
      "recall 0.8232758620689655\n",
      "accuracy_count 416.0\n",
      "\n",
      "Test data\n",
      "accuracy 0.7692307692307693\n",
      "precision 0.6619718309859155\n",
      "recall 0.8392857142857143\n",
      "accuracy_count 110.0\n",
      "\n",
      "Classification:  survived ~ linear_svc\n",
      "\n",
      "Training data\n",
      "accuracy 0.7996485061511424\n",
      "precision 0.7638888888888888\n",
      "recall 0.7236842105263158\n",
      "accuracy_count 455.0\n",
      "\n",
      "Test data\n",
      "accuracy 0.7832167832167832\n",
      "precision 0.8222222222222222\n",
      "recall 0.6166666666666667\n",
      "accuracy_count 112.0\n",
      "\n",
      "Classification:  survived ~ radius_neighnours\n",
      "\n",
      "Training data\n",
      "accuracy 0.687170474516696\n",
      "precision 0.7142857142857143\n",
      "recall 0.2995391705069124\n",
      "accuracy_count 391.0\n",
      "\n",
      "Test data\n",
      "accuracy 0.6153846153846154\n",
      "precision 0.7857142857142857\n",
      "recall 0.30985915492957744\n",
      "accuracy_count 88.0\n",
      "\n"
     ]
    }
   ],
   "execution_count": 73
  },
  {
   "metadata": {},
   "cell_type": "markdown",
   "source": "## Running K Nearest Neighbors - K Neighbours",
   "id": "541eebdab392fbc2"
  },
  {
   "metadata": {
    "ExecuteTime": {
     "end_time": "2025-03-27T17:02:55.729343Z",
     "start_time": "2025-03-27T17:02:55.703674Z"
    }
   },
   "cell_type": "code",
   "source": [
    "def kneighbours_fn(x_train, y_train, n_neighbours=5):\n",
    "    from sklearn.neighbors import KNeighborsClassifier\n",
    "    model = KNeighborsClassifier(n_neighbors=n_neighbours)\n",
    "    model.fit(x_train, y_train)\n",
    "    return model\n",
    "\n",
    "\n",
    "result_dict['survived ~ kneighbours'] = build_model(kneighbours_fn, 'Survived', X.columns, titanic_df)\n",
    "compare_results(result_dict)"
   ],
   "id": "57cd730642814032",
   "outputs": [
    {
     "name": "stdout",
     "output_type": "stream",
     "text": [
      "Classification:  survived ~ logistic\n",
      "\n",
      "Training data\n",
      "accuracy 0.8031634446397188\n",
      "precision 0.7871287128712872\n",
      "recall 0.6973684210526315\n",
      "accuracy_count 457.0\n",
      "\n",
      "Test data\n",
      "accuracy 0.7622377622377622\n",
      "precision 0.75\n",
      "recall 0.65\n",
      "accuracy_count 109.0\n",
      "\n",
      "Classification:  survived ~ linear_discriminant\n",
      "\n",
      "Training data\n",
      "accuracy 0.8031634446397188\n",
      "precision 0.7733333333333333\n",
      "recall 0.7404255319148936\n",
      "accuracy_count 457.0\n",
      "\n",
      "Test data\n",
      "accuracy 0.7762237762237763\n",
      "precision 0.7333333333333333\n",
      "recall 0.6226415094339622\n",
      "accuracy_count 111.0\n",
      "\n",
      "Classification:  survived ~ quadratic_discriminant\n",
      "\n",
      "Training data\n",
      "accuracy 0.8014059753954306\n",
      "precision 0.7718446601941747\n",
      "recall 0.7066666666666667\n",
      "accuracy_count 456.0\n",
      "\n",
      "Test data\n",
      "accuracy 0.8531468531468531\n",
      "precision 0.828125\n",
      "recall 0.8412698412698413\n",
      "accuracy_count 122.0\n",
      "\n",
      "Classification:  survived ~ sgd\n",
      "\n",
      "Training data\n",
      "accuracy 0.7311072056239016\n",
      "precision 0.6303630363036303\n",
      "recall 0.8232758620689655\n",
      "accuracy_count 416.0\n",
      "\n",
      "Test data\n",
      "accuracy 0.7692307692307693\n",
      "precision 0.6619718309859155\n",
      "recall 0.8392857142857143\n",
      "accuracy_count 110.0\n",
      "\n",
      "Classification:  survived ~ linear_svc\n",
      "\n",
      "Training data\n",
      "accuracy 0.7996485061511424\n",
      "precision 0.7638888888888888\n",
      "recall 0.7236842105263158\n",
      "accuracy_count 455.0\n",
      "\n",
      "Test data\n",
      "accuracy 0.7832167832167832\n",
      "precision 0.8222222222222222\n",
      "recall 0.6166666666666667\n",
      "accuracy_count 112.0\n",
      "\n",
      "Classification:  survived ~ radius_neighnours\n",
      "\n",
      "Training data\n",
      "accuracy 0.687170474516696\n",
      "precision 0.7142857142857143\n",
      "recall 0.2995391705069124\n",
      "accuracy_count 391.0\n",
      "\n",
      "Test data\n",
      "accuracy 0.6153846153846154\n",
      "precision 0.7857142857142857\n",
      "recall 0.30985915492957744\n",
      "accuracy_count 88.0\n",
      "\n",
      "Classification:  survived ~ kneighbours\n",
      "\n",
      "Training data\n",
      "accuracy 0.7838312829525483\n",
      "precision 0.7534246575342466\n",
      "recall 0.7051282051282052\n",
      "accuracy_count 446.0\n",
      "\n",
      "Test data\n",
      "accuracy 0.6433566433566433\n",
      "precision 0.5319148936170213\n",
      "recall 0.46296296296296297\n",
      "accuracy_count 92.0\n",
      "\n"
     ]
    }
   ],
   "execution_count": 74
  },
  {
   "metadata": {},
   "cell_type": "markdown",
   "source": [
    "# HYPERPARAMETER TUNING WITH GRID SEARCH CV\n",
    "### - Running Grid Search CV for Logistic Regression"
   ],
   "id": "b452a163bacd5ade"
  },
  {
   "metadata": {
    "ExecuteTime": {
     "end_time": "2025-03-27T17:02:55.872665Z",
     "start_time": "2025-03-27T17:02:55.743068Z"
    }
   },
   "cell_type": "code",
   "source": [
    "from sklearn.model_selection import GridSearchCV\n",
    "\n",
    "parameters = {'penalty': ['l1', 'l2'], 'C': [0.1, 0.4, 0.8, 1, 2, 5]}\n",
    "grid_search = GridSearchCV(LogisticRegression(solver='liblinear'), parameters, cv=3, return_train_score=True)\n",
    "grid_search.fit(X_train, y_train)\n",
    "grid_search.best_params_"
   ],
   "id": "6ddbdeedc7895dff",
   "outputs": [
    {
     "data": {
      "text/plain": [
       "{'C': 5, 'penalty': 'l2'}"
      ]
     },
     "execution_count": 75,
     "metadata": {},
     "output_type": "execute_result"
    }
   ],
   "execution_count": 75
  },
  {
   "metadata": {},
   "cell_type": "markdown",
   "source": "### - Print all the hyperparameters and its accuracy score for Logistic Regression",
   "id": "469135c5c4fa05e7"
  },
  {
   "metadata": {
    "ExecuteTime": {
     "end_time": "2025-03-27T17:02:55.887995Z",
     "start_time": "2025-03-27T17:02:55.885584Z"
    }
   },
   "cell_type": "code",
   "source": [
    "for i in range(len(grid_search.cv_results_['params'])):\n",
    "    print(f'Parameters : {grid_search.cv_results_[\"params\"][i]}')\n",
    "    print(f'Mean Test score : {grid_search.cv_results_[\"mean_test_score\"][i]}')\n",
    "    print(f'Rank : {grid_search.cv_results_[\"rank_test_score\"][i]}')"
   ],
   "id": "c698927304eb3d2c",
   "outputs": [
    {
     "name": "stdout",
     "output_type": "stream",
     "text": [
      "Parameters : {'C': 0.1, 'penalty': 'l1'}\n",
      "Mean Test score : 0.7732850645131347\n",
      "Rank : 12\n",
      "Parameters : {'C': 0.1, 'penalty': 'l2'}\n",
      "Mean Test score : 0.7785575048732943\n",
      "Rank : 11\n",
      "Parameters : {'C': 0.4, 'penalty': 'l1'}\n",
      "Mean Test score : 0.7838206627680312\n",
      "Rank : 8\n",
      "Parameters : {'C': 0.4, 'penalty': 'l2'}\n",
      "Mean Test score : 0.7838020978371856\n",
      "Rank : 10\n",
      "Parameters : {'C': 0.8, 'penalty': 'l1'}\n",
      "Mean Test score : 0.7926111575234382\n",
      "Rank : 6\n",
      "Parameters : {'C': 0.8, 'penalty': 'l2'}\n",
      "Mean Test score : 0.7855750487329435\n",
      "Rank : 7\n",
      "Parameters : {'C': 1, 'penalty': 'l1'}\n",
      "Mean Test score : 0.7961199294532628\n",
      "Rank : 3\n",
      "Parameters : {'C': 1, 'penalty': 'l2'}\n",
      "Mean Test score : 0.7838206627680312\n",
      "Rank : 8\n",
      "Parameters : {'C': 2, 'penalty': 'l1'}\n",
      "Mean Test score : 0.7943469785575048\n",
      "Rank : 5\n",
      "Parameters : {'C': 2, 'penalty': 'l2'}\n",
      "Mean Test score : 0.7943562610229277\n",
      "Rank : 4\n",
      "Parameters : {'C': 5, 'penalty': 'l1'}\n",
      "Mean Test score : 0.7978650329527524\n",
      "Rank : 2\n",
      "Parameters : {'C': 5, 'penalty': 'l2'}\n",
      "Mean Test score : 0.7996287013830874\n",
      "Rank : 1\n"
     ]
    }
   ],
   "execution_count": 76
  },
  {
   "metadata": {},
   "cell_type": "markdown",
   "source": "### - Running Logistic Regression model with best hyperparameters",
   "id": "c3a74f37db3c8cd5"
  },
  {
   "metadata": {
    "ExecuteTime": {
     "end_time": "2025-03-27T17:02:55.917226Z",
     "start_time": "2025-03-27T17:02:55.908578Z"
    }
   },
   "cell_type": "code",
   "source": [
    "logistic_model = LogisticRegression(solver='liblinear', C=grid_search.best_params_['C'],\n",
    "                                    penalty=grid_search.best_params_['penalty'])\n",
    "logistic_model.fit(X_train, y_train)\n",
    "y_pred = logistic_model.predict(X_test)\n",
    "summarize_classification(y_test, y_pred)"
   ],
   "id": "276c18ebcae2038c",
   "outputs": [
    {
     "data": {
      "text/plain": [
       "{'accuracy': 0.8111888111888111,\n",
       " 'precision': 0.86,\n",
       " 'recall': 0.6825396825396826,\n",
       " 'accuracy_count': 116.0}"
      ]
     },
     "execution_count": 77,
     "metadata": {},
     "output_type": "execute_result"
    }
   ],
   "execution_count": 77
  },
  {
   "metadata": {},
   "cell_type": "markdown",
   "source": "###  - Running Grid Search CV for Decision Tree Classifier",
   "id": "49bd3ba8752175b"
  },
  {
   "metadata": {
    "ExecuteTime": {
     "end_time": "2025-03-27T17:02:56.005100Z",
     "start_time": "2025-03-27T17:02:55.941897Z"
    }
   },
   "cell_type": "code",
   "source": [
    "from sklearn.tree import DecisionTreeClassifier\n",
    "\n",
    "parameters = {'max_depth': [2, 4, 5, 7, 9, 10]}\n",
    "grid_search = GridSearchCV(DecisionTreeClassifier(), parameters, cv=3, return_train_score=True)\n",
    "grid_search.fit(X_train, y_train)\n",
    "grid_search.best_params_"
   ],
   "id": "d692e094a295b361",
   "outputs": [
    {
     "data": {
      "text/plain": [
       "{'max_depth': 5}"
      ]
     },
     "execution_count": 78,
     "metadata": {},
     "output_type": "execute_result"
    }
   ],
   "execution_count": 78
  },
  {
   "metadata": {},
   "cell_type": "markdown",
   "source": "### - Print all the hyperparameters and its accuracy score for Decision Tree Classifier",
   "id": "69bdcb99c61b6d54"
  },
  {
   "metadata": {
    "ExecuteTime": {
     "end_time": "2025-03-27T17:02:56.021020Z",
     "start_time": "2025-03-27T17:02:56.018097Z"
    }
   },
   "cell_type": "code",
   "source": [
    "for i in range(len(grid_search.cv_results_['params'])):\n",
    "    print(f'Parameters : {grid_search.cv_results_[\"params\"][i]}')\n",
    "    print(f'Mean Test score : {grid_search.cv_results_[\"mean_test_score\"][i]}')\n",
    "    print(f'Rank : {grid_search.cv_results_[\"rank_test_score\"][i]}')"
   ],
   "id": "9b3c0eefba24e34d",
   "outputs": [
    {
     "name": "stdout",
     "output_type": "stream",
     "text": [
      "Parameters : {'max_depth': 2}\n",
      "Mean Test score : 0.7873294346978558\n",
      "Rank : 3\n",
      "Parameters : {'max_depth': 4}\n",
      "Mean Test score : 0.7908660540239487\n",
      "Rank : 2\n",
      "Parameters : {'max_depth': 5}\n",
      "Mean Test score : 0.7926390049197067\n",
      "Rank : 1\n",
      "Parameters : {'max_depth': 7}\n",
      "Mean Test score : 0.7767752715121136\n",
      "Rank : 4\n",
      "Parameters : {'max_depth': 9}\n",
      "Mean Test score : 0.7750951452705839\n",
      "Rank : 5\n",
      "Parameters : {'max_depth': 10}\n",
      "Mean Test score : 0.7750765803397383\n",
      "Rank : 6\n"
     ]
    }
   ],
   "execution_count": 79
  },
  {
   "metadata": {},
   "cell_type": "markdown",
   "source": "### - Running Decision Tree Classifier model with best hyperparameters",
   "id": "29310db24c0a55fd"
  },
  {
   "metadata": {
    "ExecuteTime": {
     "end_time": "2025-03-27T17:02:56.059350Z",
     "start_time": "2025-03-27T17:02:56.050647Z"
    }
   },
   "cell_type": "code",
   "source": [
    "decision_tree_model = DecisionTreeClassifier(max_depth=grid_search.best_params_['max_depth'])\n",
    "decision_tree_model.fit(X_train, y_train)\n",
    "y_pred = decision_tree_model.predict(X_test)\n",
    "summarize_classification(y_test, y_pred)"
   ],
   "id": "4d09d2059ab27b43",
   "outputs": [
    {
     "data": {
      "text/plain": [
       "{'accuracy': 0.7202797202797203,\n",
       " 'precision': 0.8484848484848485,\n",
       " 'recall': 0.4444444444444444,\n",
       " 'accuracy_count': 103.0}"
      ]
     },
     "execution_count": 80,
     "metadata": {},
     "output_type": "execute_result"
    }
   ],
   "execution_count": 80
  }
 ],
 "metadata": {
  "kernelspec": {
   "display_name": "Python 3",
   "language": "python",
   "name": "python3"
  },
  "language_info": {
   "codemirror_mode": {
    "name": "ipython",
    "version": 2
   },
   "file_extension": ".py",
   "mimetype": "text/x-python",
   "name": "python",
   "nbconvert_exporter": "python",
   "pygments_lexer": "ipython2",
   "version": "2.7.6"
  }
 },
 "nbformat": 4,
 "nbformat_minor": 5
}
